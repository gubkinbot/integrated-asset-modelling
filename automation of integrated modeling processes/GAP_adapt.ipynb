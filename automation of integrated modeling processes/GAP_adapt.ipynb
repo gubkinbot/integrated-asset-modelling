{
 "cells": [
  {
   "cell_type": "code",
   "execution_count": 2,
   "id": "342fbc0d-6388-40e0-ba4d-9400ebeb0472",
   "metadata": {
    "execution": {
     "iopub.execute_input": "2021-12-08T20:25:56.925147Z",
     "iopub.status.busy": "2021-12-08T20:25:56.925147Z",
     "iopub.status.idle": "2021-12-08T20:25:57.894065Z",
     "shell.execute_reply": "2021-12-08T20:25:57.894065Z",
     "shell.execute_reply.started": "2021-12-08T20:25:56.925147Z"
    },
    "tags": []
   },
   "outputs": [],
   "source": [
    "from openserver import OpenServer\n",
    "import pandas as pd"
   ]
  },
  {
   "cell_type": "code",
   "execution_count": 3,
   "id": "99b9bed6-48d7-45f2-b30b-0d21ec172331",
   "metadata": {
    "execution": {
     "iopub.execute_input": "2021-12-08T20:26:04.347337Z",
     "iopub.status.busy": "2021-12-08T20:26:04.347337Z",
     "iopub.status.idle": "2021-12-08T20:26:04.500886Z",
     "shell.execute_reply": "2021-12-08T20:26:04.500886Z",
     "shell.execute_reply.started": "2021-12-08T20:26:04.347337Z"
    }
   },
   "outputs": [
    {
     "name": "stdout",
     "output_type": "stream",
     "text": [
      "OpenServer is connected\n"
     ]
    }
   ],
   "source": [
    "c = OpenServer()\n",
    "c.connect()"
   ]
  },
  {
   "cell_type": "code",
   "execution_count": 4,
   "id": "4e9c477d-05cb-4d7b-b9aa-f8c8015af3ce",
   "metadata": {
    "execution": {
     "iopub.execute_input": "2021-12-08T20:26:16.893949Z",
     "iopub.status.busy": "2021-12-08T20:26:16.893949Z",
     "iopub.status.idle": "2021-12-08T20:26:19.306888Z",
     "shell.execute_reply": "2021-12-08T20:26:19.306888Z",
     "shell.execute_reply.started": "2021-12-08T20:26:16.893949Z"
    }
   },
   "outputs": [],
   "source": [
    "c.DoCmd('GAP.START()')"
   ]
  },
  {
   "cell_type": "code",
   "execution_count": 9,
   "id": "2901bfdd-5970-4135-9413-ff71f0975253",
   "metadata": {
    "execution": {
     "iopub.execute_input": "2021-12-08T20:28:22.239891Z",
     "iopub.status.busy": "2021-12-08T20:28:22.239891Z",
     "iopub.status.idle": "2021-12-08T20:28:22.446657Z",
     "shell.execute_reply": "2021-12-08T20:28:22.446657Z",
     "shell.execute_reply.started": "2021-12-08T20:28:22.239891Z"
    },
    "tags": []
   },
   "outputs": [
    {
     "name": "stdout",
     "output_type": "stream",
     "text": [
      "OpenServer is connected\n"
     ]
    }
   ],
   "source": [
    "c.DoCmd('GAP.OPENFILE(\"C:\\\\Users\\ivan\\OneDrive\\IAM\\test.gap\")')"
   ]
  },
  {
   "cell_type": "code",
   "execution_count": 105,
   "id": "3002d710-382f-4b20-b5b1-94fda4e99f63",
   "metadata": {
    "execution": {
     "iopub.execute_input": "2021-12-09T00:54:04.499056Z",
     "iopub.status.busy": "2021-12-09T00:54:04.499056Z",
     "iopub.status.idle": "2021-12-09T00:54:04.546436Z",
     "shell.execute_reply": "2021-12-09T00:54:04.546436Z",
     "shell.execute_reply.started": "2021-12-09T00:54:04.499056Z"
    },
    "tags": []
   },
   "outputs": [],
   "source": [
    "data = pd.read_excel('data.xlsx', index_col=0, parse_dates=False)"
   ]
  },
  {
   "cell_type": "code",
   "execution_count": 106,
   "id": "6bad7743-4a86-4633-bb30-85d04bed0f8d",
   "metadata": {
    "execution": {
     "iopub.execute_input": "2021-12-09T00:54:05.883603Z",
     "iopub.status.busy": "2021-12-09T00:54:05.883603Z",
     "iopub.status.idle": "2021-12-09T00:54:05.931741Z",
     "shell.execute_reply": "2021-12-09T00:54:05.930711Z",
     "shell.execute_reply.started": "2021-12-09T00:54:05.883603Z"
    },
    "tags": []
   },
   "outputs": [
    {
     "data": {
      "text/html": [
       "<div>\n",
       "<style scoped>\n",
       "    .dataframe tbody tr th:only-of-type {\n",
       "        vertical-align: middle;\n",
       "    }\n",
       "\n",
       "    .dataframe tbody tr th {\n",
       "        vertical-align: top;\n",
       "    }\n",
       "\n",
       "    .dataframe thead th {\n",
       "        text-align: right;\n",
       "    }\n",
       "</style>\n",
       "<table border=\"1\" class=\"dataframe\">\n",
       "  <thead>\n",
       "    <tr style=\"text-align: right;\">\n",
       "      <th></th>\n",
       "      <th>InPres</th>\n",
       "      <th>InTemp</th>\n",
       "      <th>Qgas</th>\n",
       "      <th>OutPres</th>\n",
       "      <th>WGR</th>\n",
       "      <th>CGR</th>\n",
       "      <th>OilGravity</th>\n",
       "      <th>GasGravity</th>\n",
       "      <th>WaterSalinity</th>\n",
       "      <th>H2S</th>\n",
       "      <th>CO2</th>\n",
       "      <th>N2</th>\n",
       "      <th>Comments</th>\n",
       "    </tr>\n",
       "    <tr>\n",
       "      <th>well</th>\n",
       "      <th></th>\n",
       "      <th></th>\n",
       "      <th></th>\n",
       "      <th></th>\n",
       "      <th></th>\n",
       "      <th></th>\n",
       "      <th></th>\n",
       "      <th></th>\n",
       "      <th></th>\n",
       "      <th></th>\n",
       "      <th></th>\n",
       "      <th></th>\n",
       "      <th></th>\n",
       "    </tr>\n",
       "  </thead>\n",
       "  <tbody>\n",
       "    <tr>\n",
       "      <th>1</th>\n",
       "      <td>43.9</td>\n",
       "      <td>51</td>\n",
       "      <td>82</td>\n",
       "      <td>41.5</td>\n",
       "      <td>0</td>\n",
       "      <td>0</td>\n",
       "      <td>800</td>\n",
       "      <td>0.64</td>\n",
       "      <td>6000</td>\n",
       "      <td>4.25</td>\n",
       "      <td>4.3</td>\n",
       "      <td>0.31</td>\n",
       "      <td>no comments</td>\n",
       "    </tr>\n",
       "    <tr>\n",
       "      <th>2</th>\n",
       "      <td>43.5</td>\n",
       "      <td>61</td>\n",
       "      <td>135</td>\n",
       "      <td>41.6</td>\n",
       "      <td>0</td>\n",
       "      <td>0</td>\n",
       "      <td>800</td>\n",
       "      <td>0.64</td>\n",
       "      <td>6000</td>\n",
       "      <td>4.25</td>\n",
       "      <td>4.3</td>\n",
       "      <td>0.31</td>\n",
       "      <td>no comments</td>\n",
       "    </tr>\n",
       "    <tr>\n",
       "      <th>3</th>\n",
       "      <td>43.8</td>\n",
       "      <td>51</td>\n",
       "      <td>92</td>\n",
       "      <td>42.0</td>\n",
       "      <td>0</td>\n",
       "      <td>0</td>\n",
       "      <td>800</td>\n",
       "      <td>0.64</td>\n",
       "      <td>6000</td>\n",
       "      <td>4.25</td>\n",
       "      <td>4.3</td>\n",
       "      <td>0.31</td>\n",
       "      <td>no comments</td>\n",
       "    </tr>\n",
       "    <tr>\n",
       "      <th>4</th>\n",
       "      <td>44.2</td>\n",
       "      <td>61</td>\n",
       "      <td>141</td>\n",
       "      <td>42.8</td>\n",
       "      <td>0</td>\n",
       "      <td>0</td>\n",
       "      <td>800</td>\n",
       "      <td>0.64</td>\n",
       "      <td>6000</td>\n",
       "      <td>4.25</td>\n",
       "      <td>4.3</td>\n",
       "      <td>0.31</td>\n",
       "      <td>no comments</td>\n",
       "    </tr>\n",
       "    <tr>\n",
       "      <th>5</th>\n",
       "      <td>44.5</td>\n",
       "      <td>58</td>\n",
       "      <td>150</td>\n",
       "      <td>42.7</td>\n",
       "      <td>0</td>\n",
       "      <td>0</td>\n",
       "      <td>800</td>\n",
       "      <td>0.64</td>\n",
       "      <td>6000</td>\n",
       "      <td>4.25</td>\n",
       "      <td>4.3</td>\n",
       "      <td>0.31</td>\n",
       "      <td>no comments</td>\n",
       "    </tr>\n",
       "    <tr>\n",
       "      <th>6</th>\n",
       "      <td>42.2</td>\n",
       "      <td>15</td>\n",
       "      <td>5</td>\n",
       "      <td>41.4</td>\n",
       "      <td>0</td>\n",
       "      <td>0</td>\n",
       "      <td>800</td>\n",
       "      <td>0.64</td>\n",
       "      <td>6000</td>\n",
       "      <td>4.25</td>\n",
       "      <td>4.3</td>\n",
       "      <td>0.31</td>\n",
       "      <td>no comments</td>\n",
       "    </tr>\n",
       "    <tr>\n",
       "      <th>7</th>\n",
       "      <td>45.2</td>\n",
       "      <td>62</td>\n",
       "      <td>170</td>\n",
       "      <td>41.6</td>\n",
       "      <td>0</td>\n",
       "      <td>0</td>\n",
       "      <td>800</td>\n",
       "      <td>0.64</td>\n",
       "      <td>6000</td>\n",
       "      <td>4.25</td>\n",
       "      <td>4.3</td>\n",
       "      <td>0.31</td>\n",
       "      <td>no comments</td>\n",
       "    </tr>\n",
       "    <tr>\n",
       "      <th>8</th>\n",
       "      <td>44.8</td>\n",
       "      <td>49</td>\n",
       "      <td>85</td>\n",
       "      <td>41.4</td>\n",
       "      <td>0</td>\n",
       "      <td>0</td>\n",
       "      <td>800</td>\n",
       "      <td>0.64</td>\n",
       "      <td>6000</td>\n",
       "      <td>4.25</td>\n",
       "      <td>4.3</td>\n",
       "      <td>0.31</td>\n",
       "      <td>no comments</td>\n",
       "    </tr>\n",
       "    <tr>\n",
       "      <th>9</th>\n",
       "      <td>43.4</td>\n",
       "      <td>61</td>\n",
       "      <td>150</td>\n",
       "      <td>41.6</td>\n",
       "      <td>0</td>\n",
       "      <td>0</td>\n",
       "      <td>800</td>\n",
       "      <td>0.64</td>\n",
       "      <td>6000</td>\n",
       "      <td>4.25</td>\n",
       "      <td>4.3</td>\n",
       "      <td>0.31</td>\n",
       "      <td>no comments</td>\n",
       "    </tr>\n",
       "    <tr>\n",
       "      <th>10</th>\n",
       "      <td>43.0</td>\n",
       "      <td>57</td>\n",
       "      <td>118</td>\n",
       "      <td>41.5</td>\n",
       "      <td>0</td>\n",
       "      <td>0</td>\n",
       "      <td>800</td>\n",
       "      <td>0.64</td>\n",
       "      <td>6000</td>\n",
       "      <td>4.25</td>\n",
       "      <td>4.3</td>\n",
       "      <td>0.31</td>\n",
       "      <td>no comments</td>\n",
       "    </tr>\n",
       "  </tbody>\n",
       "</table>\n",
       "</div>"
      ],
      "text/plain": [
       "      InPres  InTemp  Qgas  OutPres  WGR  CGR  OilGravity  GasGravity  \\\n",
       "well                                                                    \n",
       "1       43.9      51    82     41.5    0    0         800        0.64   \n",
       "2       43.5      61   135     41.6    0    0         800        0.64   \n",
       "3       43.8      51    92     42.0    0    0         800        0.64   \n",
       "4       44.2      61   141     42.8    0    0         800        0.64   \n",
       "5       44.5      58   150     42.7    0    0         800        0.64   \n",
       "6       42.2      15     5     41.4    0    0         800        0.64   \n",
       "7       45.2      62   170     41.6    0    0         800        0.64   \n",
       "8       44.8      49    85     41.4    0    0         800        0.64   \n",
       "9       43.4      61   150     41.6    0    0         800        0.64   \n",
       "10      43.0      57   118     41.5    0    0         800        0.64   \n",
       "\n",
       "      WaterSalinity   H2S  CO2    N2     Comments  \n",
       "well                                               \n",
       "1              6000  4.25  4.3  0.31  no comments  \n",
       "2              6000  4.25  4.3  0.31  no comments  \n",
       "3              6000  4.25  4.3  0.31  no comments  \n",
       "4              6000  4.25  4.3  0.31  no comments  \n",
       "5              6000  4.25  4.3  0.31  no comments  \n",
       "6              6000  4.25  4.3  0.31  no comments  \n",
       "7              6000  4.25  4.3  0.31  no comments  \n",
       "8              6000  4.25  4.3  0.31  no comments  \n",
       "9              6000  4.25  4.3  0.31  no comments  \n",
       "10             6000  4.25  4.3  0.31  no comments  "
      ]
     },
     "execution_count": 106,
     "metadata": {},
     "output_type": "execute_result"
    }
   ],
   "source": [
    "data"
   ]
  },
  {
   "cell_type": "code",
   "execution_count": null,
   "id": "9c82a030-ae1e-448c-af42-c92831fb309e",
   "metadata": {
    "tags": []
   },
   "outputs": [],
   "source": [
    "for colname in data.columns:\n",
    "    pipe_name = 'PIPE_' + well + '_1'\n",
    "    c.DoSet(f'GAP.MOD[{{PROD}}].PIPE[{{{pipe_name}}}].Matching.DATA[0].' + str(colname), Val=data.loc[1][colname])"
   ]
  },
  {
   "cell_type": "code",
   "execution_count": 37,
   "id": "cfd0bd70-9550-4d6d-9b0e-1312caedc45a",
   "metadata": {
    "execution": {
     "iopub.execute_input": "2021-12-08T20:47:08.049758Z",
     "iopub.status.busy": "2021-12-08T20:47:08.049758Z",
     "iopub.status.idle": "2021-12-08T20:47:08.111220Z",
     "shell.execute_reply": "2021-12-08T20:47:08.110208Z",
     "shell.execute_reply.started": "2021-12-08T20:47:08.049758Z"
    },
    "tags": []
   },
   "outputs": [],
   "source": [
    "c.DoCmd('GAP.MOD[{PROD}].PIPE[{PIPE_1_1}].DOMATCH()')"
   ]
  }
 ],
 "metadata": {
  "kernelspec": {
   "display_name": "Python 3",
   "language": "python",
   "name": "python3"
  },
  "language_info": {
   "codemirror_mode": {
    "name": "ipython",
    "version": 3
   },
   "file_extension": ".py",
   "mimetype": "text/x-python",
   "name": "python",
   "nbconvert_exporter": "python",
   "pygments_lexer": "ipython3",
   "version": "3.8.8"
  }
 },
 "nbformat": 4,
 "nbformat_minor": 5
}
