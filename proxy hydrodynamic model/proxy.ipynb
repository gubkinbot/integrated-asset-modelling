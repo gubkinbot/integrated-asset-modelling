{
 "cells": [
  {
   "cell_type": "markdown",
   "id": "bd9a4ce2-17d0-4805-99b2-b6996bdc42e6",
   "metadata": {},
   "source": [
    "# Прокси-модель ГДМ"
   ]
  },
  {
   "cell_type": "code",
   "execution_count": 1,
   "id": "69fc292b-5927-4491-91b9-1ba748eb8993",
   "metadata": {
    "execution": {
     "iopub.execute_input": "2021-12-09T01:18:00.370990Z",
     "iopub.status.busy": "2021-12-09T01:18:00.370990Z",
     "iopub.status.idle": "2021-12-09T01:18:04.968483Z",
     "shell.execute_reply": "2021-12-09T01:18:04.968483Z",
     "shell.execute_reply.started": "2021-12-09T01:18:00.370990Z"
    },
    "tags": []
   },
   "outputs": [],
   "source": [
    "import pandas as pd\n",
    "import numpy as np\n",
    "import plotly.express as px\n",
    "from sklearn.model_selection import train_test_split\n",
    "from sklearn.linear_model import LinearRegression, ARDRegression, BayesianRidge, Ridge, SGDRegressor, GammaRegressor, HuberRegressor\n",
    "from sklearn.preprocessing import PolynomialFeatures, StandardScaler\n",
    "from sklearn.pipeline import Pipeline\n",
    "from sklearn.metrics import mean_absolute_percentage_error, mean_squared_error, mean_absolute_error, r2_score\n",
    "from catboost import CatBoostRegressor\n",
    "from sklearn.ensemble import StackingRegressor\n",
    "from scipy.optimize import curve_fit\n",
    "import matplotlib.pyplot as plt"
   ]
  },
  {
   "cell_type": "markdown",
   "id": "c01cd49a-3f25-4030-8410-78337a7a7ebb",
   "metadata": {},
   "source": [
    "Выгружаем исходные данные, выбираем период, на котором велась активная разрабтка"
   ]
  },
  {
   "cell_type": "code",
   "execution_count": 3,
   "id": "f3595f60-c13e-44c7-9182-d89ea641d9f1",
   "metadata": {
    "execution": {
     "iopub.execute_input": "2021-12-09T01:18:25.907686Z",
     "iopub.status.busy": "2021-12-09T01:18:25.907686Z",
     "iopub.status.idle": "2021-12-09T01:18:26.080772Z",
     "shell.execute_reply": "2021-12-09T01:18:26.080772Z",
     "shell.execute_reply.started": "2021-12-09T01:18:25.907686Z"
    },
    "tags": []
   },
   "outputs": [],
   "source": [
    "raw = pd.read_csv('wbp.csv', index_col=0, parse_dates=True)\n",
    "raw = raw.loc['2015-08-01':]"
   ]
  },
  {
   "cell_type": "markdown",
   "id": "c779e1a6-1999-4d79-b571-59cccccf71c4",
   "metadata": {},
   "source": [
    "### Модель по определенной скважине"
   ]
  },
  {
   "cell_type": "code",
   "execution_count": 5,
   "id": "aa997434-5723-40de-84e0-fdad93815693",
   "metadata": {
    "execution": {
     "iopub.execute_input": "2021-12-09T01:18:51.697439Z",
     "iopub.status.busy": "2021-12-09T01:18:51.681795Z",
     "iopub.status.idle": "2021-12-09T01:18:51.714155Z",
     "shell.execute_reply": "2021-12-09T01:18:51.713128Z",
     "shell.execute_reply.started": "2021-12-09T01:18:51.697439Z"
    },
    "tags": []
   },
   "outputs": [],
   "source": [
    "well = '0001'"
   ]
  },
  {
   "cell_type": "markdown",
   "id": "3ef2d172-2194-4c8a-a9b9-038021865ca0",
   "metadata": {},
   "source": [
    "Выделяем данные по одной скважине, разделяем на признаковое пространство и целевую метку"
   ]
  },
  {
   "cell_type": "code",
   "execution_count": 6,
   "id": "143fbf18-ccef-43d4-a071-0035b2880d45",
   "metadata": {
    "execution": {
     "iopub.execute_input": "2021-12-09T01:18:53.568170Z",
     "iopub.status.busy": "2021-12-09T01:18:53.568170Z",
     "iopub.status.idle": "2021-12-09T01:18:53.600775Z",
     "shell.execute_reply": "2021-12-09T01:18:53.599429Z",
     "shell.execute_reply.started": "2021-12-09T01:18:53.568170Z"
    },
    "tags": []
   },
   "outputs": [],
   "source": [
    "data = raw.loc[:, ['WGPT:' + str(well), 'WBP:' + str(well)]]\n",
    "data.columns = ['WGPT', 'WBP']\n",
    "X = data.loc[:, ['WGPT']]\n",
    "y = data.loc[:, ['WBP']]"
   ]
  },
  {
   "cell_type": "code",
   "execution_count": 7,
   "id": "4511f401-9485-47c2-8445-b3cb4bd26764",
   "metadata": {
    "execution": {
     "iopub.execute_input": "2021-12-09T01:18:55.409976Z",
     "iopub.status.busy": "2021-12-09T01:18:55.409976Z",
     "iopub.status.idle": "2021-12-09T01:18:55.506103Z",
     "shell.execute_reply": "2021-12-09T01:18:55.504989Z",
     "shell.execute_reply.started": "2021-12-09T01:18:55.409976Z"
    },
    "tags": []
   },
   "outputs": [],
   "source": [
    "days = []\n",
    "for datetime in data.index:\n",
    "    days.append((datetime - data.index[0]).days)\n",
    "X['DAYS'] = days"
   ]
  },
  {
   "cell_type": "code",
   "execution_count": 8,
   "id": "21615f38-2451-47a4-adb0-e7e940b4a6ca",
   "metadata": {
    "execution": {
     "iopub.execute_input": "2021-12-09T01:18:56.889946Z",
     "iopub.status.busy": "2021-12-09T01:18:56.889946Z",
     "iopub.status.idle": "2021-12-09T01:18:56.921211Z",
     "shell.execute_reply": "2021-12-09T01:18:56.921211Z",
     "shell.execute_reply.started": "2021-12-09T01:18:56.889946Z"
    },
    "tags": []
   },
   "outputs": [],
   "source": [
    "def features_transform(X):\n",
    "    days = []\n",
    "    for datetime in X.index:\n",
    "        days.append((datetime - X.index[0]).days)\n",
    "    X['DAYS'] = days\n",
    "    \n",
    "    X['QDAY'] = X['WGPT'].diff()\n",
    "    X['DIFF_QDAY'] = X.loc[:, 'QDAY'].diff()\n",
    "    \n",
    "    state = 0\n",
    "    states = []\n",
    "    for i in X.index:\n",
    "        if X.loc[i]['QDAY'] < 100:\n",
    "            if state == 0:\n",
    "                state = 1\n",
    "            elif state > 0:\n",
    "                state += 1\n",
    "        else:\n",
    "            state = 0\n",
    "        states.append(state)\n",
    "    X['cumstate_shut_down'] = states\n",
    "    \n",
    "    state = 0\n",
    "    states = []\n",
    "    for i in X.index:\n",
    "        if X.loc[i]['QDAY'] > 100:\n",
    "            if state == 0:\n",
    "                state = 1\n",
    "            elif state > 0:\n",
    "                state += 1\n",
    "        else:\n",
    "            state = 0\n",
    "        states.append(state)\n",
    "    X['cumstate_production'] = states\n",
    "    \n",
    "    days = [1, 2, 3, 4, 5, 6, 7, 10, 14, 21, 30]\n",
    "    for day in days:\n",
    "        X['QDAY_SUM_' + str(day)] = X['QDAY'].rolling(day).sum()/day\n",
    "        X['DIFF_QDAY_SUM_' + str(day)] = X['DIFF_QDAY'].rolling(day).sum()/day\n",
    "        X['QDAY_MEAN_' + str(day)] = X['QDAY'].rolling(day).mean()/day\n",
    "        X['DIFF_QDAY_MEAN_' + str(day)] = X['DIFF_QDAY'].rolling(day).mean()/day\n",
    "        X['QDAY_MIN_' + str(day)] = X['QDAY'].rolling(day).min()/day\n",
    "        X['DIFF_QDAY_MIN_' + str(day)] = X['DIFF_QDAY'].rolling(day).min()/day\n",
    "        X['QDAY_MAX_' + str(day)] = X['QDAY'].rolling(day).max()/day\n",
    "        X['DIFF_QDAY_MAX' + str(day)] = X['DIFF_QDAY'].rolling(day).max()/day\n",
    "    X.dropna(inplace=True)\n",
    "    return X.iloc[[-1]]"
   ]
  },
  {
   "cell_type": "code",
   "execution_count": 9,
   "id": "3474f104-48d4-4f0c-81ad-2b8c263e9230",
   "metadata": {
    "execution": {
     "iopub.execute_input": "2021-12-09T01:18:59.581587Z",
     "iopub.status.busy": "2021-12-09T01:18:59.581587Z",
     "iopub.status.idle": "2021-12-09T01:18:59.593655Z",
     "shell.execute_reply": "2021-12-09T01:18:59.592240Z",
     "shell.execute_reply.started": "2021-12-09T01:18:59.581587Z"
    },
    "tags": []
   },
   "outputs": [],
   "source": [
    "X['QDAY'] = X['WGPT'].diff()\n",
    "X['DIFF_QDAY'] = X.loc[:, 'QDAY'].diff()"
   ]
  },
  {
   "cell_type": "code",
   "execution_count": 10,
   "id": "edb06c8e-e4c9-4687-93a7-b09b299a59c6",
   "metadata": {
    "execution": {
     "iopub.execute_input": "2021-12-09T01:19:00.629583Z",
     "iopub.status.busy": "2021-12-09T01:19:00.629583Z",
     "iopub.status.idle": "2021-12-09T01:19:01.178637Z",
     "shell.execute_reply": "2021-12-09T01:19:01.178637Z",
     "shell.execute_reply.started": "2021-12-09T01:19:00.629583Z"
    },
    "tags": []
   },
   "outputs": [],
   "source": [
    "state = 0\n",
    "states = []\n",
    "for i in X.index:\n",
    "    if X.loc[i]['QDAY'] < 100:\n",
    "        if state == 0:\n",
    "            state = 1\n",
    "        elif state > 0:\n",
    "            state += 1\n",
    "    else:\n",
    "        state = 0\n",
    "    states.append(state)\n",
    "X['cumstate_shut_down'] = states"
   ]
  },
  {
   "cell_type": "code",
   "execution_count": 11,
   "id": "23e2551b-6592-43e4-9dfe-9e39e50df296",
   "metadata": {
    "execution": {
     "iopub.execute_input": "2021-12-09T01:19:03.060325Z",
     "iopub.status.busy": "2021-12-09T01:19:03.060325Z",
     "iopub.status.idle": "2021-12-09T01:19:03.563340Z",
     "shell.execute_reply": "2021-12-09T01:19:03.563340Z",
     "shell.execute_reply.started": "2021-12-09T01:19:03.060325Z"
    },
    "tags": []
   },
   "outputs": [],
   "source": [
    "state = 0\n",
    "states = []\n",
    "for i in X.index:\n",
    "    if X.loc[i]['QDAY'] > 100:\n",
    "        if state == 0:\n",
    "            state = 1\n",
    "        elif state > 0:\n",
    "            state += 1\n",
    "    else:\n",
    "        state = 0\n",
    "    states.append(state)\n",
    "X['cumstate_production'] = states"
   ]
  },
  {
   "cell_type": "code",
   "execution_count": 12,
   "id": "2e235dbf-dc40-49d9-a7a3-2d40a60285e0",
   "metadata": {
    "execution": {
     "iopub.execute_input": "2021-12-09T01:19:05.589645Z",
     "iopub.status.busy": "2021-12-09T01:19:05.589645Z",
     "iopub.status.idle": "2021-12-09T01:19:05.778193Z",
     "shell.execute_reply": "2021-12-09T01:19:05.778193Z",
     "shell.execute_reply.started": "2021-12-09T01:19:05.589645Z"
    },
    "tags": []
   },
   "outputs": [],
   "source": [
    "days = [1, 2, 3, 4, 5, 6, 7, 10, 14, 21, 30]\n",
    "for day in days:\n",
    "    X['QDAY_SUM_' + str(day)] = X['QDAY'].rolling(day).sum()/day\n",
    "    X['DIFF_QDAY_SUM_' + str(day)] = X['DIFF_QDAY'].rolling(day).sum()/day\n",
    "    X['QDAY_MEAN_' + str(day)] = X['QDAY'].rolling(day).mean()/day\n",
    "    X['DIFF_QDAY_MEAN_' + str(day)] = X['DIFF_QDAY'].rolling(day).mean()/day\n",
    "    X['QDAY_MIN_' + str(day)] = X['QDAY'].rolling(day).min()/day\n",
    "    X['DIFF_QDAY_MIN_' + str(day)] = X['DIFF_QDAY'].rolling(day).min()/day\n",
    "    X['QDAY_MAX_' + str(day)] = X['QDAY'].rolling(day).max()/day\n",
    "    X['DIFF_QDAY_MAX' + str(day)] = X['DIFF_QDAY'].rolling(day).max()/day"
   ]
  },
  {
   "cell_type": "code",
   "execution_count": 13,
   "id": "29e8f07a-5600-4a3a-893b-aff5dec41b18",
   "metadata": {
    "execution": {
     "iopub.execute_input": "2021-12-09T01:19:07.539810Z",
     "iopub.status.busy": "2021-12-09T01:19:07.539810Z",
     "iopub.status.idle": "2021-12-09T01:19:07.586422Z",
     "shell.execute_reply": "2021-12-09T01:19:07.586422Z",
     "shell.execute_reply.started": "2021-12-09T01:19:07.539810Z"
    },
    "tags": []
   },
   "outputs": [],
   "source": [
    "X.dropna(inplace=True)"
   ]
  },
  {
   "cell_type": "code",
   "execution_count": 15,
   "id": "5c9924a1-fdaf-436b-92e9-07075d9aaddb",
   "metadata": {
    "execution": {
     "iopub.execute_input": "2021-12-09T01:19:09.962022Z",
     "iopub.status.busy": "2021-12-09T01:19:09.962022Z",
     "iopub.status.idle": "2021-12-09T01:19:09.993282Z",
     "shell.execute_reply": "2021-12-09T01:19:09.993282Z",
     "shell.execute_reply.started": "2021-12-09T01:19:09.962022Z"
    },
    "tags": []
   },
   "outputs": [],
   "source": [
    "y = y.loc[X.index]"
   ]
  },
  {
   "cell_type": "code",
   "execution_count": 16,
   "id": "c39908a4-9b15-40ad-8688-0dc8671ac2ec",
   "metadata": {
    "execution": {
     "iopub.execute_input": "2021-12-09T01:19:11.281013Z",
     "iopub.status.busy": "2021-12-09T01:19:11.281013Z",
     "iopub.status.idle": "2021-12-09T01:19:11.312780Z",
     "shell.execute_reply": "2021-12-09T01:19:11.312268Z",
     "shell.execute_reply.started": "2021-12-09T01:19:11.281013Z"
    },
    "tags": []
   },
   "outputs": [],
   "source": [
    "X_train, X_test, y_train, y_test = train_test_split(X, y, shuffle=False, test_size=0.05)"
   ]
  },
  {
   "cell_type": "code",
   "execution_count": 17,
   "id": "4d14f988-84c4-47a9-b59c-34c964a0aaf7",
   "metadata": {
    "execution": {
     "iopub.execute_input": "2021-12-09T01:19:12.806725Z",
     "iopub.status.busy": "2021-12-09T01:19:12.791098Z",
     "iopub.status.idle": "2021-12-09T01:19:12.823562Z",
     "shell.execute_reply": "2021-12-09T01:19:12.822520Z",
     "shell.execute_reply.started": "2021-12-09T01:19:12.806725Z"
    },
    "tags": []
   },
   "outputs": [],
   "source": [
    "def func(x, a, b, c):\n",
    "    return a * np.exp(-b * x) + c"
   ]
  },
  {
   "cell_type": "code",
   "execution_count": 28,
   "id": "38b74d47-8871-4673-8921-48441a592715",
   "metadata": {
    "execution": {
     "iopub.execute_input": "2021-12-09T01:21:46.220225Z",
     "iopub.status.busy": "2021-12-09T01:21:46.220225Z",
     "iopub.status.idle": "2021-12-09T01:21:46.565610Z",
     "shell.execute_reply": "2021-12-09T01:21:46.565610Z",
     "shell.execute_reply.started": "2021-12-09T01:21:46.220225Z"
    },
    "tags": []
   },
   "outputs": [
    {
     "data": {
      "image/png": "[encoded data removed]",
      "text/plain": [
       "<Figure size 1440x360 with 1 Axes>"
      ]
     },
     "metadata": {
      "needs_background": "light"
     },
     "output_type": "display_data"
    }
   ],
   "source": [
    "xdata = X_train.DAYS.values\n",
    "ydata = y_train.WBP.values\n",
    "plt.figure(figsize=(20, 5))\n",
    "plt.plot(xdata, ydata, label='ГДМ')\n",
    "\n",
    "popt, pcov = curve_fit(func, xdata, ydata, maxfev=100, \n",
    "                     bounds=(0, [2000., 0.1, 2000.])\n",
    "                      )\n",
    "plt.plot(xdata, func(xdata, *popt), label='EXP')\n",
    "\n",
    "plt.legend()\n",
    "plt.title('Аппроксимация падения пластового давления. Скважина №' + str(well))\n",
    "plt.show()"
   ]
  },
  {
   "cell_type": "code",
   "execution_count": 29,
   "id": "d12eecfa-c05d-4186-b3dd-61d2a2f6ec23",
   "metadata": {
    "execution": {
     "iopub.execute_input": "2021-12-09T01:21:49.668137Z",
     "iopub.status.busy": "2021-12-09T01:21:49.668137Z",
     "iopub.status.idle": "2021-12-09T01:21:49.700500Z",
     "shell.execute_reply": "2021-12-09T01:21:49.699483Z",
     "shell.execute_reply.started": "2021-12-09T01:21:49.668137Z"
    },
    "tags": []
   },
   "outputs": [
    {
     "name": "stderr",
     "output_type": "stream",
     "text": [
      "C:\\Users\\ivan\\anaconda3\\lib\\site-packages\\pandas\\core\\indexing.py:1597: SettingWithCopyWarning: \n",
      "A value is trying to be set on a copy of a slice from a DataFrame.\n",
      "Try using .loc[row_indexer,col_indexer] = value instead\n",
      "\n",
      "See the caveats in the documentation: https://pandas.pydata.org/pandas-docs/stable/user_guide/indexing.html#returning-a-view-versus-a-copy\n",
      "  self.obj[key] = value\n",
      "C:\\Users\\ivan\\anaconda3\\lib\\site-packages\\pandas\\core\\indexing.py:1676: SettingWithCopyWarning: \n",
      "A value is trying to be set on a copy of a slice from a DataFrame.\n",
      "Try using .loc[row_indexer,col_indexer] = value instead\n",
      "\n",
      "See the caveats in the documentation: https://pandas.pydata.org/pandas-docs/stable/user_guide/indexing.html#returning-a-view-versus-a-copy\n",
      "  self._setitem_single_column(ilocs[0], value, pi)\n"
     ]
    }
   ],
   "source": [
    "X_test.loc[:, 'EXP_PRED'] = func(X_test.DAYS.values, *popt)\n",
    "X_train.loc[:, 'EXP_PRED'] = func(X_train.DAYS.values, *popt)\n",
    "X.loc[:, 'EXP_PRED'] = func(X.DAYS.values, *popt)"
   ]
  },
  {
   "cell_type": "code",
   "execution_count": 30,
   "id": "7d05104d-c824-46fc-98bc-be14876503cd",
   "metadata": {
    "execution": {
     "iopub.execute_input": "2021-12-09T01:21:52.656464Z",
     "iopub.status.busy": "2021-12-09T01:21:52.656464Z",
     "iopub.status.idle": "2021-12-09T01:21:52.673959Z",
     "shell.execute_reply": "2021-12-09T01:21:52.672092Z",
     "shell.execute_reply.started": "2021-12-09T01:21:52.656464Z"
    },
    "tags": []
   },
   "outputs": [],
   "source": [
    "models = [LinearRegression(), ARDRegression(), BayesianRidge(), Ridge(),\n",
    "          SGDRegressor(), GammaRegressor(), HuberRegressor(), CatBoostRegressor(silent=True),\n",
    "          StackingRegressor([('ARDR', ARDRegression()), ('CBR', CatBoostRegressor(silent=True))], final_estimator=LinearRegression())]"
   ]
  },
  {
   "cell_type": "code",
   "execution_count": 31,
   "id": "87760e1b-29e8-422a-aff7-feba0603f11e",
   "metadata": {
    "execution": {
     "iopub.execute_input": "2021-12-09T01:21:54.824281Z",
     "iopub.status.busy": "2021-12-09T01:21:54.824281Z",
     "iopub.status.idle": "2021-12-09T01:21:54.858258Z",
     "shell.execute_reply": "2021-12-09T01:21:54.856079Z",
     "shell.execute_reply.started": "2021-12-09T01:21:54.824281Z"
    },
    "tags": []
   },
   "outputs": [],
   "source": [
    "pipeline = Pipeline([('scaler', StandardScaler()),\n",
    "                     ('poly', PolynomialFeatures(degree=1)),\n",
    "                     ('model', models[8])])\n",
    "pipeline_lin = Pipeline([('scaler', StandardScaler()),\n",
    "                     ('poly', PolynomialFeatures(degree=1)),\n",
    "                     ('model', models[1])])\n",
    "pipeline_CBR = Pipeline([('scaler', StandardScaler()),\n",
    "                     ('poly', PolynomialFeatures(degree=1)),\n",
    "                     ('model', models[7])])"
   ]
  },
  {
   "cell_type": "code",
   "execution_count": 33,
   "id": "9f342af2-ac6a-4c53-baa0-9c98e7693b2e",
   "metadata": {
    "execution": {
     "iopub.execute_input": "2021-12-09T01:23:09.336845Z",
     "iopub.status.busy": "2021-12-09T01:23:09.336845Z",
     "iopub.status.idle": "2021-12-09T01:24:45.717090Z",
     "shell.execute_reply": "2021-12-09T01:24:45.717090Z",
     "shell.execute_reply.started": "2021-12-09T01:23:09.336845Z"
    },
    "tags": []
   },
   "outputs": [
    {
     "name": "stderr",
     "output_type": "stream",
     "text": [
      "Custom logger is already specified. Specify more than one logger at same time is not thread safe."
     ]
    },
    {
     "data": {
      "text/plain": [
       "Pipeline(steps=[('scaler', StandardScaler()),\n",
       "                ('poly', PolynomialFeatures(degree=1)),\n",
       "                ('model',\n",
       "                 <catboost.core.CatBoostRegressor object at 0x0000013DA15D3760>)])"
      ]
     },
     "execution_count": 33,
     "metadata": {},
     "output_type": "execute_result"
    }
   ],
   "source": [
    "pipeline.fit(X_train, y_train.values.ravel())\n",
    "pipeline_lin.fit(X_train, y_train.values.ravel())\n",
    "pipeline_CBR.fit(X_train, y_train.values.ravel())"
   ]
  },
  {
   "cell_type": "code",
   "execution_count": 36,
   "id": "62a07d57-acf5-4baa-9db0-74e47f52d67b",
   "metadata": {
    "execution": {
     "iopub.execute_input": "2021-12-09T01:25:29.524245Z",
     "iopub.status.busy": "2021-12-09T01:25:29.524245Z",
     "iopub.status.idle": "2021-12-09T01:25:29.571226Z",
     "shell.execute_reply": "2021-12-09T01:25:29.571226Z",
     "shell.execute_reply.started": "2021-12-09T01:25:29.524245Z"
    },
    "tags": []
   },
   "outputs": [
    {
     "name": "stdout",
     "output_type": "stream",
     "text": [
      "MAE 1.6864690185932016\n",
      "MAPE 0.23580821851366096\n",
      "RMSE 1.858223713680248\n",
      "R2 0.8585646583639511\n"
     ]
    }
   ],
   "source": [
    "print('MAE', mean_absolute_error(y_test, pipeline_lin.predict(X_test)))\n",
    "print('MAPE', mean_absolute_percentage_error(y_test, pipeline_lin.predict(X_test)) * 100)\n",
    "print('RMSE', np.sqrt(mean_squared_error(y_test, pipeline_lin.predict(X_test))))\n",
    "print('R2', r2_score(y_test, pipeline_lin.predict(X_test)))"
   ]
  },
  {
   "cell_type": "code",
   "execution_count": 39,
   "id": "bf00b824-8128-47c5-bd9c-e029ae6c6a2f",
   "metadata": {
    "execution": {
     "iopub.execute_input": "2021-12-09T01:45:58.579771Z",
     "iopub.status.busy": "2021-12-09T01:45:58.579771Z",
     "iopub.status.idle": "2021-12-09T01:45:58.767964Z",
     "shell.execute_reply": "2021-12-09T01:45:58.767964Z",
     "shell.execute_reply.started": "2021-12-09T01:45:58.579771Z"
    },
    "tags": []
   },
   "outputs": [
    {
     "data": {
      "application/vnd.plotly.v1+json": {
       "config": {
        "plotlyServerURL": "https://plot.ly"
       },
       "data": [
        {
         "hovertemplate": "variable=actual<br>DATE=%{x}<br>value=%{y}<extra></extra>",
         "legendgroup": "actual",
         "line": {
          "color": "#636efa",
          "dash": "solid"
         },
         "marker": {
          "symbol": "circle"
         },
         "mode": "lines",
         "name": "actual",
         "orientation": "v",
         "showlegend": true,
         "type": "scatter",
         "x": [
          "2021-06-12T00:00:00",
          "2021-06-13T00:00:00",
          "2021-06-14T00:00:00",
          "2021-06-15T00:00:00",
          "2021-06-16T00:00:00",
          "2021-06-17T00:00:00",
          "2021-06-18T00:00:00",
          "2021-06-19T00:00:00",
          "2021-06-20T00:00:00",
          "2021-06-21T00:00:00",
          "2021-06-22T00:00:00",
          "2021-06-23T00:00:00",
          "2021-06-24T00:00:00",
          "2021-06-25T00:00:00",
          "2021-06-26T00:00:00",
          "2021-06-27T00:00:00",
          "2021-06-28T00:00:00",
          "2021-06-29T00:00:00",
          "2021-06-30T00:00:00",
          "2021-07-01T00:00:00",
          "2021-07-02T00:00:00",
          "2021-07-03T00:00:00",
          "2021-07-04T00:00:00",
          "2021-07-05T00:00:00",
          "2021-07-06T00:00:00",
          "2021-07-07T00:00:00",
          "2021-07-08T00:00:00",
          "2021-07-09T00:00:00",
          "2021-07-10T00:00:00",
          "2021-07-11T00:00:00",
          "2021-07-12T00:00:00",
          "2021-07-13T00:00:00",
          "2021-07-14T00:00:00",
          "2021-07-15T00:00:00",
          "2021-07-16T00:00:00",
          "2021-07-17T00:00:00",
          "2021-07-18T00:00:00",
          "2021-07-19T00:00:00",
          "2021-07-20T00:00:00",
          "2021-07-21T00:00:00",
          "2021-07-22T00:00:00",
          "2021-07-23T00:00:00",
          "2021-07-24T00:00:00",
          "2021-07-25T00:00:00",
          "2021-07-26T00:00:00",
          "2021-07-27T00:00:00",
          "2021-07-28T00:00:00",
          "2021-07-29T00:00:00",
          "2021-07-30T00:00:00",
          "2021-07-31T00:00:00",
          "2021-08-01T00:00:00",
          "2021-08-02T00:00:00",
          "2021-08-03T00:00:00",
          "2021-08-04T00:00:00",
          "2021-08-05T00:00:00",
          "2021-08-06T00:00:00",
          "2021-08-07T00:00:00",
          "2021-08-08T00:00:00",
          "2021-08-09T00:00:00",
          "2021-08-10T00:00:00",
          "2021-08-11T00:00:00",
          "2021-08-12T00:00:00",
          "2021-08-13T00:00:00",
          "2021-08-14T00:00:00",
          "2021-08-15T00:00:00",
          "2021-08-16T00:00:00",
          "2021-08-17T00:00:00",
          "2021-08-18T00:00:00",
          "2021-08-19T00:00:00",
          "2021-08-20T00:00:00",
          "2021-08-21T00:00:00",
          "2021-08-22T00:00:00",
          "2021-08-23T00:00:00",
          "2021-08-24T00:00:00",
          "2021-08-25T00:00:00",
          "2021-08-26T00:00:00",
          "2021-08-27T00:00:00",
          "2021-08-28T00:00:00",
          "2021-08-29T00:00:00",
          "2021-08-30T00:00:00",
          "2021-08-31T00:00:00",
          "2021-09-01T00:00:00",
          "2021-09-02T00:00:00",
          "2021-09-03T00:00:00",
          "2021-09-04T00:00:00",
          "2021-09-05T00:00:00",
          "2021-09-06T00:00:00",
          "2021-09-07T00:00:00",
          "2021-09-08T00:00:00",
          "2021-09-09T00:00:00",
          "2021-09-10T00:00:00",
          "2021-09-11T00:00:00",
          "2021-09-12T00:00:00",
          "2021-09-13T00:00:00",
          "2021-09-14T00:00:00",
          "2021-09-15T00:00:00",
          "2021-09-16T00:00:00",
          "2021-09-17T00:00:00",
          "2021-09-18T00:00:00",
          "2021-09-19T00:00:00",
          "2021-09-20T00:00:00",
          "2021-09-21T00:00:00",
          "2021-09-22T00:00:00",
          "2021-09-23T00:00:00",
          "2021-09-24T00:00:00",
          "2021-09-25T00:00:00",
          "2021-09-26T00:00:00",
          "2021-09-27T00:00:00",
          "2021-09-28T00:00:00",
          "2021-09-29T00:00:00",
          "2021-09-30T00:00:00",
          "2021-10-01T00:00:00"
         ],
         "xaxis": "x",
         "y": [
          711.297642,
          710.356097,
          710.608877,
          710.715126,
          711.3244930000001,
          711.5081160000001,
          711.4511359999999,
          711.625277,
          711.5305230000001,
          712.392164,
          712.852822,
          713.596631,
          713.982599,
          714.241836,
          713.692727,
          713.603517,
          713.6475720000001,
          713.757682,
          713.773291,
          713.923177,
          713.9396330000001,
          715.4732419999999,
          716.347643,
          716.6197169999999,
          716.478147,
          716.391621,
          716.38985,
          716.8007439999999,
          714.463057,
          713.334622,
          714.163032,
          716.0235279999999,
          717.419505,
          717.8038779999999,
          718.331339,
          715.860211,
          721.162574,
          715.2787069999999,
          713.39631,
          713.1799510000001,
          712.844429,
          712.485906,
          712.038008,
          713.765734,
          714.7014049999999,
          714.401622,
          714.5103899999999,
          714.698292,
          714.518365,
          714.447701,
          713.603847,
          713.062625,
          714.340198,
          711.932518,
          710.8697970000001,
          726.627407,
          734.905358,
          739.114453,
          742.23413,
          729.920059,
          724.543094,
          722.5716520000001,
          721.368945,
          720.572677,
          719.6372700000001,
          719.119214,
          718.942972,
          718.410814,
          717.771571,
          717.2059290000001,
          716.9289820000001,
          716.9247029999999,
          716.387419,
          716.193225,
          716.120042,
          715.987437,
          715.848969,
          715.436909,
          715.175483,
          715.093236,
          715.5768069999999,
          715.7273640000001,
          715.167926,
          715.0406999999999,
          715.040876,
          714.97591,
          714.620082,
          714.134839,
          713.698183,
          713.8027490000001,
          713.6003270000001,
          713.724616,
          714.0908609999999,
          714.405483,
          714.55076,
          715.054296,
          714.6034609999999,
          713.908162,
          713.8133200000001,
          713.537132,
          713.747529,
          713.771443,
          713.709348,
          713.915796,
          713.8406,
          714.220683,
          714.516605,
          712.78493,
          712.012752,
          711.471354,
          711.04704,
          710.694567
         ],
         "yaxis": "y"
        },
        {
         "hovertemplate": "variable=predict_lin<br>DATE=%{x}<br>value=%{y}<extra></extra>",
         "legendgroup": "predict_lin",
         "line": {
          "color": "#EF553B",
          "dash": "solid"
         },
         "marker": {
          "symbol": "circle"
         },
         "mode": "lines",
         "name": "predict_lin",
         "orientation": "v",
         "showlegend": true,
         "type": "scatter",
         "x": [
          "2021-06-12T00:00:00",
          "2021-06-13T00:00:00",
          "2021-06-14T00:00:00",
          "2021-06-15T00:00:00",
          "2021-06-16T00:00:00",
          "2021-06-17T00:00:00",
          "2021-06-18T00:00:00",
          "2021-06-19T00:00:00",
          "2021-06-20T00:00:00",
          "2021-06-21T00:00:00",
          "2021-06-22T00:00:00",
          "2021-06-23T00:00:00",
          "2021-06-24T00:00:00",
          "2021-06-25T00:00:00",
          "2021-06-26T00:00:00",
          "2021-06-27T00:00:00",
          "2021-06-28T00:00:00",
          "2021-06-29T00:00:00",
          "2021-06-30T00:00:00",
          "2021-07-01T00:00:00",
          "2021-07-02T00:00:00",
          "2021-07-03T00:00:00",
          "2021-07-04T00:00:00",
          "2021-07-05T00:00:00",
          "2021-07-06T00:00:00",
          "2021-07-07T00:00:00",
          "2021-07-08T00:00:00",
          "2021-07-09T00:00:00",
          "2021-07-10T00:00:00",
          "2021-07-11T00:00:00",
          "2021-07-12T00:00:00",
          "2021-07-13T00:00:00",
          "2021-07-14T00:00:00",
          "2021-07-15T00:00:00",
          "2021-07-16T00:00:00",
          "2021-07-17T00:00:00",
          "2021-07-18T00:00:00",
          "2021-07-19T00:00:00",
          "2021-07-20T00:00:00",
          "2021-07-21T00:00:00",
          "2021-07-22T00:00:00",
          "2021-07-23T00:00:00",
          "2021-07-24T00:00:00",
          "2021-07-25T00:00:00",
          "2021-07-26T00:00:00",
          "2021-07-27T00:00:00",
          "2021-07-28T00:00:00",
          "2021-07-29T00:00:00",
          "2021-07-30T00:00:00",
          "2021-07-31T00:00:00",
          "2021-08-01T00:00:00",
          "2021-08-02T00:00:00",
          "2021-08-03T00:00:00",
          "2021-08-04T00:00:00",
          "2021-08-05T00:00:00",
          "2021-08-06T00:00:00",
          "2021-08-07T00:00:00",
          "2021-08-08T00:00:00",
          "2021-08-09T00:00:00",
          "2021-08-10T00:00:00",
          "2021-08-11T00:00:00",
          "2021-08-12T00:00:00",
          "2021-08-13T00:00:00",
          "2021-08-14T00:00:00",
          "2021-08-15T00:00:00",
          "2021-08-16T00:00:00",
          "2021-08-17T00:00:00",
          "2021-08-18T00:00:00",
          "2021-08-19T00:00:00",
          "2021-08-20T00:00:00",
          "2021-08-21T00:00:00",
          "2021-08-22T00:00:00",
          "2021-08-23T00:00:00",
          "2021-08-24T00:00:00",
          "2021-08-25T00:00:00",
          "2021-08-26T00:00:00",
          "2021-08-27T00:00:00",
          "2021-08-28T00:00:00",
          "2021-08-29T00:00:00",
          "2021-08-30T00:00:00",
          "2021-08-31T00:00:00",
          "2021-09-01T00:00:00",
          "2021-09-02T00:00:00",
          "2021-09-03T00:00:00",
          "2021-09-04T00:00:00",
          "2021-09-05T00:00:00",
          "2021-09-06T00:00:00",
          "2021-09-07T00:00:00",
          "2021-09-08T00:00:00",
          "2021-09-09T00:00:00",
          "2021-09-10T00:00:00",
          "2021-09-11T00:00:00",
          "2021-09-12T00:00:00",
          "2021-09-13T00:00:00",
          "2021-09-14T00:00:00",
          "2021-09-15T00:00:00",
          "2021-09-16T00:00:00",
          "2021-09-17T00:00:00",
          "2021-09-18T00:00:00",
          "2021-09-19T00:00:00",
          "2021-09-20T00:00:00",
          "2021-09-21T00:00:00",
          "2021-09-22T00:00:00",
          "2021-09-23T00:00:00",
          "2021-09-24T00:00:00",
          "2021-09-25T00:00:00",
          "2021-09-26T00:00:00",
          "2021-09-27T00:00:00",
          "2021-09-28T00:00:00",
          "2021-09-29T00:00:00",
          "2021-09-30T00:00:00",
          "2021-10-01T00:00:00"
         ],
         "xaxis": "x",
         "y": [
          713.8501603809548,
          712.9020432314097,
          712.9649068556212,
          713.0141445945052,
          713.5278958173368,
          713.5441757415356,
          713.340976886798,
          713.6618283007602,
          713.3853288949247,
          714.2756188193875,
          714.6170503363537,
          715.2976802004139,
          715.6562104895409,
          715.78582076711,
          715.2190327130663,
          714.9004773390932,
          714.9790329106439,
          715.5099980816225,
          715.0584561209104,
          715.1858385170451,
          715.2947455353393,
          716.9433434727409,
          717.9714564196125,
          718.299133357802,
          718.3180915330006,
          718.2686456927632,
          718.3092393515401,
          718.6762937816036,
          716.8417671812413,
          715.7832153675047,
          716.4280586550406,
          717.865346651942,
          719.490527071741,
          719.5262534936969,
          720.3097827177761,
          717.9571613305,
          721.9608178617067,
          716.9338855309725,
          714.9745657740541,
          714.951402008779,
          714.8776263868164,
          714.5329799855799,
          714.3601773375232,
          716.2611557453209,
          717.3253961475185,
          716.9477480696786,
          716.4944467329148,
          717.713983280379,
          717.3677504619077,
          717.1577975624242,
          716.3457148812038,
          715.9439149778264,
          716.7184404090173,
          714.6494846613764,
          713.4990327765777,
          726.6766083383445,
          731.9129589252796,
          736.3454908558105,
          740.2549378750349,
          728.129609809202,
          724.4067134891602,
          723.077430455563,
          721.7447504127122,
          720.4008919288791,
          718.3253938613128,
          718.3459621352579,
          718.9918196531938,
          717.983588543834,
          715.5927860671655,
          716.9194314057793,
          716.5058656123365,
          716.3239859482603,
          715.5991421634302,
          715.6604811850368,
          715.6889074760718,
          715.6118058501507,
          716.0199729496788,
          715.7403391809289,
          715.5392043291997,
          714.5181759310268,
          715.0170051688511,
          715.2713097626491,
          714.8676146908018,
          714.5771838048768,
          713.6483203856395,
          717.7627485526468,
          716.9072946749011,
          715.8836986923527,
          712.7335805719301,
          711.4767615095676,
          711.1277767771016,
          711.257402227008,
          711.6897576508998,
          712.1505363960902,
          712.3043186729186,
          712.917098275393,
          712.453455780831,
          711.8137979738558,
          711.6398480096137,
          711.4468848898025,
          711.6375277657729,
          711.7206630311887,
          711.6223649220608,
          711.893875978354,
          711.9029182362037,
          712.2616213740467,
          712.5802084334015,
          711.096551013024,
          710.347474531894,
          709.8949233550725,
          709.6706764725468,
          709.3704716371136
         ],
         "yaxis": "y"
        },
        {
         "hovertemplate": "variable=EXP<br>DATE=%{x}<br>value=%{y}<extra></extra>",
         "legendgroup": "EXP",
         "line": {
          "color": "#00cc96",
          "dash": "solid"
         },
         "marker": {
          "symbol": "circle"
         },
         "mode": "lines",
         "name": "EXP",
         "orientation": "v",
         "showlegend": true,
         "type": "scatter",
         "x": [
          "2021-06-12T00:00:00",
          "2021-06-13T00:00:00",
          "2021-06-14T00:00:00",
          "2021-06-15T00:00:00",
          "2021-06-16T00:00:00",
          "2021-06-17T00:00:00",
          "2021-06-18T00:00:00",
          "2021-06-19T00:00:00",
          "2021-06-20T00:00:00",
          "2021-06-21T00:00:00",
          "2021-06-22T00:00:00",
          "2021-06-23T00:00:00",
          "2021-06-24T00:00:00",
          "2021-06-25T00:00:00",
          "2021-06-26T00:00:00",
          "2021-06-27T00:00:00",
          "2021-06-28T00:00:00",
          "2021-06-29T00:00:00",
          "2021-06-30T00:00:00",
          "2021-07-01T00:00:00",
          "2021-07-02T00:00:00",
          "2021-07-03T00:00:00",
          "2021-07-04T00:00:00",
          "2021-07-05T00:00:00",
          "2021-07-06T00:00:00",
          "2021-07-07T00:00:00",
          "2021-07-08T00:00:00",
          "2021-07-09T00:00:00",
          "2021-07-10T00:00:00",
          "2021-07-11T00:00:00",
          "2021-07-12T00:00:00",
          "2021-07-13T00:00:00",
          "2021-07-14T00:00:00",
          "2021-07-15T00:00:00",
          "2021-07-16T00:00:00",
          "2021-07-17T00:00:00",
          "2021-07-18T00:00:00",
          "2021-07-19T00:00:00",
          "2021-07-20T00:00:00",
          "2021-07-21T00:00:00",
          "2021-07-22T00:00:00",
          "2021-07-23T00:00:00",
          "2021-07-24T00:00:00",
          "2021-07-25T00:00:00",
          "2021-07-26T00:00:00",
          "2021-07-27T00:00:00",
          "2021-07-28T00:00:00",
          "2021-07-29T00:00:00",
          "2021-07-30T00:00:00",
          "2021-07-31T00:00:00",
          "2021-08-01T00:00:00",
          "2021-08-02T00:00:00",
          "2021-08-03T00:00:00",
          "2021-08-04T00:00:00",
          "2021-08-05T00:00:00",
          "2021-08-06T00:00:00",
          "2021-08-07T00:00:00",
          "2021-08-08T00:00:00",
          "2021-08-09T00:00:00",
          "2021-08-10T00:00:00",
          "2021-08-11T00:00:00",
          "2021-08-12T00:00:00",
          "2021-08-13T00:00:00",
          "2021-08-14T00:00:00",
          "2021-08-15T00:00:00",
          "2021-08-16T00:00:00",
          "2021-08-17T00:00:00",
          "2021-08-18T00:00:00",
          "2021-08-19T00:00:00",
          "2021-08-20T00:00:00",
          "2021-08-21T00:00:00",
          "2021-08-22T00:00:00",
          "2021-08-23T00:00:00",
          "2021-08-24T00:00:00",
          "2021-08-25T00:00:00",
          "2021-08-26T00:00:00",
          "2021-08-27T00:00:00",
          "2021-08-28T00:00:00",
          "2021-08-29T00:00:00",
          "2021-08-30T00:00:00",
          "2021-08-31T00:00:00",
          "2021-09-01T00:00:00",
          "2021-09-02T00:00:00",
          "2021-09-03T00:00:00",
          "2021-09-04T00:00:00",
          "2021-09-05T00:00:00",
          "2021-09-06T00:00:00",
          "2021-09-07T00:00:00",
          "2021-09-08T00:00:00",
          "2021-09-09T00:00:00",
          "2021-09-10T00:00:00",
          "2021-09-11T00:00:00",
          "2021-09-12T00:00:00",
          "2021-09-13T00:00:00",
          "2021-09-14T00:00:00",
          "2021-09-15T00:00:00",
          "2021-09-16T00:00:00",
          "2021-09-17T00:00:00",
          "2021-09-18T00:00:00",
          "2021-09-19T00:00:00",
          "2021-09-20T00:00:00",
          "2021-09-21T00:00:00",
          "2021-09-22T00:00:00",
          "2021-09-23T00:00:00",
          "2021-09-24T00:00:00",
          "2021-09-25T00:00:00",
          "2021-09-26T00:00:00",
          "2021-09-27T00:00:00",
          "2021-09-28T00:00:00",
          "2021-09-29T00:00:00",
          "2021-09-30T00:00:00",
          "2021-10-01T00:00:00"
         ],
         "xaxis": "x",
         "y": [
          732.9270857902211,
          732.8355771534483,
          732.7441508965156,
          732.6528069452615,
          732.5615452255911,
          732.470365663476,
          732.3792681849545,
          732.2882527161318,
          732.1973191831793,
          732.1064675123348,
          732.015697629903,
          731.9250094622544,
          731.8344029358259,
          731.743877977121,
          731.6534345127087,
          731.5630724692248,
          731.4727917733707,
          731.3825923519139,
          731.2924741316879,
          731.202437039592,
          731.1124810025913,
          731.0226059477167,
          730.9328118020646,
          730.8430984927975,
          730.7534659471429,
          730.6639140923942,
          730.57444285591,
          730.4850521651146,
          730.3957419474972,
          730.3065121306128,
          730.2173626420812,
          730.1282934095875,
          730.039304360882,
          729.95039542378,
          729.8615665261617,
          729.7728175959721,
          729.6841485612214,
          729.5955593499843,
          729.5070498904006,
          729.4186201106745,
          729.3302699390748,
          729.241999303935,
          729.1538081336532,
          729.0656963566919,
          728.9776639015778,
          728.8897106969023,
          728.8018366713206,
          728.7140417535529,
          728.6263258723826,
          728.538688956658,
          728.4511309352911,
          728.3636517372579,
          728.2762512915984,
          728.1889295274166,
          728.1016863738799,
          728.0145217602201,
          727.9274356157321,
          727.8404278697749,
          727.7534984517708,
          727.6666472912059,
          727.5798743176296,
          727.4931794606546,
          727.4065626499572,
          727.320023815277,
          727.2335628864167,
          727.1471797932423,
          727.0608744656829,
          726.9746468337308,
          726.8884968274411,
          726.802424376932,
          726.7164294123846,
          726.6305118640429,
          726.5446716622135,
          726.4589087372661,
          726.3732230196327,
          726.2876144398082,
          726.2020829283499,
          726.1166284158778,
          726.0312508330741,
          725.9459501106836,
          725.8607261795133,
          725.7755789704329,
          725.6905084143737,
          725.6055144423295,
          725.5205969853564,
          725.4357559745724,
          725.3509913411573,
          725.2663030163532,
          725.1816909314638,
          725.0971550178549,
          725.012695206954,
          724.9283114302503,
          724.8440036192947,
          724.7597717056996,
          724.6756156211392,
          724.591535297349,
          724.507530666126,
          724.4236016593287,
          724.3397482088769,
          724.2559702467518,
          724.1722677049954,
          724.0886405157114,
          724.0050886110643,
          723.9216119232798,
          723.8382103846445,
          723.7548839275063,
          723.6716324842735,
          723.5884559874156,
          723.5053543694628,
          723.4223275630059,
          723.3393755006967,
          723.2564981152473
         ],
         "yaxis": "y"
        }
       ],
       "layout": {
        "autosize": true,
        "legend": {
         "title": {
          "text": "variable"
         },
         "tracegroupgap": 0
        },
        "margin": {
         "t": 60
        },
        "template": {
         "data": {
          "bar": [
           {
            "error_x": {
             "color": "#2a3f5f"
            },
            "error_y": {
             "color": "#2a3f5f"
            },
            "marker": {
             "line": {
              "color": "#E5ECF6",
              "width": 0.5
             },
             "pattern": {
              "fillmode": "overlay",
              "size": 10,
              "solidity": 0.2
             }
            },
            "type": "bar"
           }
          ],
          "barpolar": [
           {
            "marker": {
             "line": {
              "color": "#E5ECF6",
              "width": 0.5
             },
             "pattern": {
              "fillmode": "overlay",
              "size": 10,
              "solidity": 0.2
             }
            },
            "type": "barpolar"
           }
          ],
          "carpet": [
           {
            "aaxis": {
             "endlinecolor": "#2a3f5f",
             "gridcolor": "white",
             "linecolor": "white",
             "minorgridcolor": "white",
             "startlinecolor": "#2a3f5f"
            },
            "baxis": {
             "endlinecolor": "#2a3f5f",
             "gridcolor": "white",
             "linecolor": "white",
             "minorgridcolor": "white",
             "startlinecolor": "#2a3f5f"
            },
            "type": "carpet"
           }
          ],
          "choropleth": [
           {
            "colorbar": {
             "outlinewidth": 0,
             "ticks": ""
            },
            "type": "choropleth"
           }
          ],
          "contour": [
           {
            "colorbar": {
             "outlinewidth": 0,
             "ticks": ""
            },
            "colorscale": [
             [
              0,
              "#0d0887"
             ],
             [
              0.1111111111111111,
              "#46039f"
             ],
             [
              0.2222222222222222,
              "#7201a8"
             ],
             [
              0.3333333333333333,
              "#9c179e"
             ],
             [
              0.4444444444444444,
              "#bd3786"
             ],
             [
              0.5555555555555556,
              "#d8576b"
             ],
             [
              0.6666666666666666,
              "#ed7953"
             ],
             [
              0.7777777777777778,
              "#fb9f3a"
             ],
             [
              0.8888888888888888,
              "#fdca26"
             ],
             [
              1,
              "#f0f921"
             ]
            ],
            "type": "contour"
           }
          ],
          "contourcarpet": [
           {
            "colorbar": {
             "outlinewidth": 0,
             "ticks": ""
            },
            "type": "contourcarpet"
           }
          ],
          "heatmap": [
           {
            "colorbar": {
             "outlinewidth": 0,
             "ticks": ""
            },
            "colorscale": [
             [
              0,
              "#0d0887"
             ],
             [
              0.1111111111111111,
              "#46039f"
             ],
             [
              0.2222222222222222,
              "#7201a8"
             ],
             [
              0.3333333333333333,
              "#9c179e"
             ],
             [
              0.4444444444444444,
              "#bd3786"
             ],
             [
              0.5555555555555556,
              "#d8576b"
             ],
             [
              0.6666666666666666,
              "#ed7953"
             ],
             [
              0.7777777777777778,
              "#fb9f3a"
             ],
             [
              0.8888888888888888,
              "#fdca26"
             ],
             [
              1,
              "#f0f921"
             ]
            ],
            "type": "heatmap"
           }
          ],
          "heatmapgl": [
           {
            "colorbar": {
             "outlinewidth": 0,
             "ticks": ""
            },
            "colorscale": [
             [
              0,
              "#0d0887"
             ],
             [
              0.1111111111111111,
              "#46039f"
             ],
             [
              0.2222222222222222,
              "#7201a8"
             ],
             [
              0.3333333333333333,
              "#9c179e"
             ],
             [
              0.4444444444444444,
              "#bd3786"
             ],
             [
              0.5555555555555556,
              "#d8576b"
             ],
             [
              0.6666666666666666,
              "#ed7953"
             ],
             [
              0.7777777777777778,
              "#fb9f3a"
             ],
             [
              0.8888888888888888,
              "#fdca26"
             ],
             [
              1,
              "#f0f921"
             ]
            ],
            "type": "heatmapgl"
           }
          ],
          "histogram": [
           {
            "marker": {
             "pattern": {
              "fillmode": "overlay",
              "size": 10,
              "solidity": 0.2
             }
            },
            "type": "histogram"
           }
          ],
          "histogram2d": [
           {
            "colorbar": {
             "outlinewidth": 0,
             "ticks": ""
            },
            "colorscale": [
             [
              0,
              "#0d0887"
             ],
             [
              0.1111111111111111,
              "#46039f"
             ],
             [
              0.2222222222222222,
              "#7201a8"
             ],
             [
              0.3333333333333333,
              "#9c179e"
             ],
             [
              0.4444444444444444,
              "#bd3786"
             ],
             [
              0.5555555555555556,
              "#d8576b"
             ],
             [
              0.6666666666666666,
              "#ed7953"
             ],
             [
              0.7777777777777778,
              "#fb9f3a"
             ],
             [
              0.8888888888888888,
              "#fdca26"
             ],
             [
              1,
              "#f0f921"
             ]
            ],
            "type": "histogram2d"
           }
          ],
          "histogram2dcontour": [
           {
            "colorbar": {
             "outlinewidth": 0,
             "ticks": ""
            },
            "colorscale": [
             [
              0,
              "#0d0887"
             ],
             [
              0.1111111111111111,
              "#46039f"
             ],
             [
              0.2222222222222222,
              "#7201a8"
             ],
             [
              0.3333333333333333,
              "#9c179e"
             ],
             [
              0.4444444444444444,
              "#bd3786"
             ],
             [
              0.5555555555555556,
              "#d8576b"
             ],
             [
              0.6666666666666666,
              "#ed7953"
             ],
             [
              0.7777777777777778,
              "#fb9f3a"
             ],
             [
              0.8888888888888888,
              "#fdca26"
             ],
             [
              1,
              "#f0f921"
             ]
            ],
            "type": "histogram2dcontour"
           }
          ],
          "mesh3d": [
           {
            "colorbar": {
             "outlinewidth": 0,
             "ticks": ""
            },
            "type": "mesh3d"
           }
          ],
          "parcoords": [
           {
            "line": {
             "colorbar": {
              "outlinewidth": 0,
              "ticks": ""
             }
            },
            "type": "parcoords"
           }
          ],
          "pie": [
           {
            "automargin": true,
            "type": "pie"
           }
          ],
          "scatter": [
           {
            "marker": {
             "colorbar": {
              "outlinewidth": 0,
              "ticks": ""
             }
            },
            "type": "scatter"
           }
          ],
          "scatter3d": [
           {
            "line": {
             "colorbar": {
              "outlinewidth": 0,
              "ticks": ""
             }
            },
            "marker": {
             "colorbar": {
              "outlinewidth": 0,
              "ticks": ""
             }
            },
            "type": "scatter3d"
           }
          ],
          "scattercarpet": [
           {
            "marker": {
             "colorbar": {
              "outlinewidth": 0,
              "ticks": ""
             }
            },
            "type": "scattercarpet"
           }
          ],
          "scattergeo": [
           {
            "marker": {
             "colorbar": {
              "outlinewidth": 0,
              "ticks": ""
             }
            },
            "type": "scattergeo"
           }
          ],
          "scattergl": [
           {
            "marker": {
             "colorbar": {
              "outlinewidth": 0,
              "ticks": ""
             }
            },
            "type": "scattergl"
           }
          ],
          "scattermapbox": [
           {
            "marker": {
             "colorbar": {
              "outlinewidth": 0,
              "ticks": ""
             }
            },
            "type": "scattermapbox"
           }
          ],
          "scatterpolar": [
           {
            "marker": {
             "colorbar": {
              "outlinewidth": 0,
              "ticks": ""
             }
            },
            "type": "scatterpolar"
           }
          ],
          "scatterpolargl": [
           {
            "marker": {
             "colorbar": {
              "outlinewidth": 0,
              "ticks": ""
             }
            },
            "type": "scatterpolargl"
           }
          ],
          "scatterternary": [
           {
            "marker": {
             "colorbar": {
              "outlinewidth": 0,
              "ticks": ""
             }
            },
            "type": "scatterternary"
           }
          ],
          "surface": [
           {
            "colorbar": {
             "outlinewidth": 0,
             "ticks": ""
            },
            "colorscale": [
             [
              0,
              "#0d0887"
             ],
             [
              0.1111111111111111,
              "#46039f"
             ],
             [
              0.2222222222222222,
              "#7201a8"
             ],
             [
              0.3333333333333333,
              "#9c179e"
             ],
             [
              0.4444444444444444,
              "#bd3786"
             ],
             [
              0.5555555555555556,
              "#d8576b"
             ],
             [
              0.6666666666666666,
              "#ed7953"
             ],
             [
              0.7777777777777778,
              "#fb9f3a"
             ],
             [
              0.8888888888888888,
              "#fdca26"
             ],
             [
              1,
              "#f0f921"
             ]
            ],
            "type": "surface"
           }
          ],
          "table": [
           {
            "cells": {
             "fill": {
              "color": "#EBF0F8"
             },
             "line": {
              "color": "white"
             }
            },
            "header": {
             "fill": {
              "color": "#C8D4E3"
             },
             "line": {
              "color": "white"
             }
            },
            "type": "table"
           }
          ]
         },
         "layout": {
          "annotationdefaults": {
           "arrowcolor": "#2a3f5f",
           "arrowhead": 0,
           "arrowwidth": 1
          },
          "autotypenumbers": "strict",
          "coloraxis": {
           "colorbar": {
            "outlinewidth": 0,
            "ticks": ""
           }
          },
          "colorscale": {
           "diverging": [
            [
             0,
             "#8e0152"
            ],
            [
             0.1,
             "#c51b7d"
            ],
            [
             0.2,
             "#de77ae"
            ],
            [
             0.3,
             "#f1b6da"
            ],
            [
             0.4,
             "#fde0ef"
            ],
            [
             0.5,
             "#f7f7f7"
            ],
            [
             0.6,
             "#e6f5d0"
            ],
            [
             0.7,
             "#b8e186"
            ],
            [
             0.8,
             "#7fbc41"
            ],
            [
             0.9,
             "#4d9221"
            ],
            [
             1,
             "#276419"
            ]
           ],
           "sequential": [
            [
             0,
             "#0d0887"
            ],
            [
             0.1111111111111111,
             "#46039f"
            ],
            [
             0.2222222222222222,
             "#7201a8"
            ],
            [
             0.3333333333333333,
             "#9c179e"
            ],
            [
             0.4444444444444444,
             "#bd3786"
            ],
            [
             0.5555555555555556,
             "#d8576b"
            ],
            [
             0.6666666666666666,
             "#ed7953"
            ],
            [
             0.7777777777777778,
             "#fb9f3a"
            ],
            [
             0.8888888888888888,
             "#fdca26"
            ],
            [
             1,
             "#f0f921"
            ]
           ],
           "sequentialminus": [
            [
             0,
             "#0d0887"
            ],
            [
             0.1111111111111111,
             "#46039f"
            ],
            [
             0.2222222222222222,
             "#7201a8"
            ],
            [
             0.3333333333333333,
             "#9c179e"
            ],
            [
             0.4444444444444444,
             "#bd3786"
            ],
            [
             0.5555555555555556,
             "#d8576b"
            ],
            [
             0.6666666666666666,
             "#ed7953"
            ],
            [
             0.7777777777777778,
             "#fb9f3a"
            ],
            [
             0.8888888888888888,
             "#fdca26"
            ],
            [
             1,
             "#f0f921"
            ]
           ]
          },
          "colorway": [
           "#636efa",
           "#EF553B",
           "#00cc96",
           "#ab63fa",
           "#FFA15A",
           "#19d3f3",
           "#FF6692",
           "#B6E880",
           "#FF97FF",
           "#FECB52"
          ],
          "font": {
           "color": "#2a3f5f"
          },
          "geo": {
           "bgcolor": "white",
           "lakecolor": "white",
           "landcolor": "#E5ECF6",
           "showlakes": true,
           "showland": true,
           "subunitcolor": "white"
          },
          "hoverlabel": {
           "align": "left"
          },
          "hovermode": "closest",
          "mapbox": {
           "style": "light"
          },
          "paper_bgcolor": "white",
          "plot_bgcolor": "#E5ECF6",
          "polar": {
           "angularaxis": {
            "gridcolor": "white",
            "linecolor": "white",
            "ticks": ""
           },
           "bgcolor": "#E5ECF6",
           "radialaxis": {
            "gridcolor": "white",
            "linecolor": "white",
            "ticks": ""
           }
          },
          "scene": {
           "xaxis": {
            "backgroundcolor": "#E5ECF6",
            "gridcolor": "white",
            "gridwidth": 2,
            "linecolor": "white",
            "showbackground": true,
            "ticks": "",
            "zerolinecolor": "white"
           },
           "yaxis": {
            "backgroundcolor": "#E5ECF6",
            "gridcolor": "white",
            "gridwidth": 2,
            "linecolor": "white",
            "showbackground": true,
            "ticks": "",
            "zerolinecolor": "white"
           },
           "zaxis": {
            "backgroundcolor": "#E5ECF6",
            "gridcolor": "white",
            "gridwidth": 2,
            "linecolor": "white",
            "showbackground": true,
            "ticks": "",
            "zerolinecolor": "white"
           }
          },
          "shapedefaults": {
           "line": {
            "color": "#2a3f5f"
           }
          },
          "ternary": {
           "aaxis": {
            "gridcolor": "white",
            "linecolor": "white",
            "ticks": ""
           },
           "baxis": {
            "gridcolor": "white",
            "linecolor": "white",
            "ticks": ""
           },
           "bgcolor": "#E5ECF6",
           "caxis": {
            "gridcolor": "white",
            "linecolor": "white",
            "ticks": ""
           }
          },
          "title": {
           "x": 0.05
          },
          "xaxis": {
           "automargin": true,
           "gridcolor": "white",
           "linecolor": "white",
           "ticks": "",
           "title": {
            "standoff": 15
           },
           "zerolinecolor": "white",
           "zerolinewidth": 2
          },
          "yaxis": {
           "automargin": true,
           "gridcolor": "white",
           "linecolor": "white",
           "ticks": "",
           "title": {
            "standoff": 15
           },
           "zerolinecolor": "white",
           "zerolinewidth": 2
          }
         }
        },
        "xaxis": {
         "anchor": "y",
         "autorange": true,
         "domain": [
          0,
          1
         ],
         "range": [
          "2021-06-12",
          "2021-10-01"
         ],
         "title": {
          "text": "DATE"
         },
         "type": "date"
        },
        "yaxis": {
         "anchor": "x",
         "autorange": true,
         "domain": [
          0,
          1
         ],
         "range": [
          707.5447128391754,
          744.0598887979382
         ],
         "title": {
          "text": "value"
         },
         "type": "linear"
        }
       }
      },
      "image/png": "[encoded data removed]",
      "text/html": [
       "<div>                            <div id=\"44fc5df3-20cc-4bd0-8be2-e99fb630ea95\" class=\"plotly-graph-div\" style=\"height:525px; width:100%;\"></div>            <script type=\"text/javascript\">                require([\"plotly\"], function(Plotly) {                    window.PLOTLYENV=window.PLOTLYENV || {};                                    if (document.getElementById(\"44fc5df3-20cc-4bd0-8be2-e99fb630ea95\")) {                    Plotly.newPlot(                        \"44fc5df3-20cc-4bd0-8be2-e99fb630ea95\",                        [{\"hovertemplate\":\"variable=actual<br>DATE=%{x}<br>value=%{y}<extra></extra>\",\"legendgroup\":\"actual\",\"line\":{\"color\":\"#636efa\",\"dash\":\"solid\"},\"marker\":{\"symbol\":\"circle\"},\"mode\":\"lines\",\"name\":\"actual\",\"orientation\":\"v\",\"showlegend\":true,\"x\":[\"2021-06-12T00:00:00\",\"2021-06-13T00:00:00\",\"2021-06-14T00:00:00\",\"2021-06-15T00:00:00\",\"2021-06-16T00:00:00\",\"2021-06-17T00:00:00\",\"2021-06-18T00:00:00\",\"2021-06-19T00:00:00\",\"2021-06-20T00:00:00\",\"2021-06-21T00:00:00\",\"2021-06-22T00:00:00\",\"2021-06-23T00:00:00\",\"2021-06-24T00:00:00\",\"2021-06-25T00:00:00\",\"2021-06-26T00:00:00\",\"2021-06-27T00:00:00\",\"2021-06-28T00:00:00\",\"2021-06-29T00:00:00\",\"2021-06-30T00:00:00\",\"2021-07-01T00:00:00\",\"2021-07-02T00:00:00\",\"2021-07-03T00:00:00\",\"2021-07-04T00:00:00\",\"2021-07-05T00:00:00\",\"2021-07-06T00:00:00\",\"2021-07-07T00:00:00\",\"2021-07-08T00:00:00\",\"2021-07-09T00:00:00\",\"2021-07-10T00:00:00\",\"2021-07-11T00:00:00\",\"2021-07-12T00:00:00\",\"2021-07-13T00:00:00\",\"2021-07-14T00:00:00\",\"2021-07-15T00:00:00\",\"2021-07-16T00:00:00\",\"2021-07-17T00:00:00\",\"2021-07-18T00:00:00\",\"2021-07-19T00:00:00\",\"2021-07-20T00:00:00\",\"2021-07-21T00:00:00\",\"2021-07-22T00:00:00\",\"2021-07-23T00:00:00\",\"2021-07-24T00:00:00\",\"2021-07-25T00:00:00\",\"2021-07-26T00:00:00\",\"2021-07-27T00:00:00\",\"2021-07-28T00:00:00\",\"2021-07-29T00:00:00\",\"2021-07-30T00:00:00\",\"2021-07-31T00:00:00\",\"2021-08-01T00:00:00\",\"2021-08-02T00:00:00\",\"2021-08-03T00:00:00\",\"2021-08-04T00:00:00\",\"2021-08-05T00:00:00\",\"2021-08-06T00:00:00\",\"2021-08-07T00:00:00\",\"2021-08-08T00:00:00\",\"2021-08-09T00:00:00\",\"2021-08-10T00:00:00\",\"2021-08-11T00:00:00\",\"2021-08-12T00:00:00\",\"2021-08-13T00:00:00\",\"2021-08-14T00:00:00\",\"2021-08-15T00:00:00\",\"2021-08-16T00:00:00\",\"2021-08-17T00:00:00\",\"2021-08-18T00:00:00\",\"2021-08-19T00:00:00\",\"2021-08-20T00:00:00\",\"2021-08-21T00:00:00\",\"2021-08-22T00:00:00\",\"2021-08-23T00:00:00\",\"2021-08-24T00:00:00\",\"2021-08-25T00:00:00\",\"2021-08-26T00:00:00\",\"2021-08-27T00:00:00\",\"2021-08-28T00:00:00\",\"2021-08-29T00:00:00\",\"2021-08-30T00:00:00\",\"2021-08-31T00:00:00\",\"2021-09-01T00:00:00\",\"2021-09-02T00:00:00\",\"2021-09-03T00:00:00\",\"2021-09-04T00:00:00\",\"2021-09-05T00:00:00\",\"2021-09-06T00:00:00\",\"2021-09-07T00:00:00\",\"2021-09-08T00:00:00\",\"2021-09-09T00:00:00\",\"2021-09-10T00:00:00\",\"2021-09-11T00:00:00\",\"2021-09-12T00:00:00\",\"2021-09-13T00:00:00\",\"2021-09-14T00:00:00\",\"2021-09-15T00:00:00\",\"2021-09-16T00:00:00\",\"2021-09-17T00:00:00\",\"2021-09-18T00:00:00\",\"2021-09-19T00:00:00\",\"2021-09-20T00:00:00\",\"2021-09-21T00:00:00\",\"2021-09-22T00:00:00\",\"2021-09-23T00:00:00\",\"2021-09-24T00:00:00\",\"2021-09-25T00:00:00\",\"2021-09-26T00:00:00\",\"2021-09-27T00:00:00\",\"2021-09-28T00:00:00\",\"2021-09-29T00:00:00\",\"2021-09-30T00:00:00\",\"2021-10-01T00:00:00\"],\"xaxis\":\"x\",\"y\":[711.297642,710.356097,710.608877,710.715126,711.3244930000001,711.5081160000001,711.4511359999999,711.625277,711.5305230000001,712.392164,712.852822,713.596631,713.982599,714.241836,713.692727,713.603517,713.6475720000001,713.757682,713.773291,713.923177,713.9396330000001,715.4732419999999,716.347643,716.6197169999999,716.478147,716.391621,716.38985,716.8007439999999,714.463057,713.334622,714.163032,716.0235279999999,717.419505,717.8038779999999,718.331339,715.860211,721.162574,715.2787069999999,713.39631,713.1799510000001,712.844429,712.485906,712.038008,713.765734,714.7014049999999,714.401622,714.5103899999999,714.698292,714.518365,714.447701,713.603847,713.062625,714.340198,711.932518,710.8697970000001,726.627407,734.905358,739.114453,742.23413,729.920059,724.543094,722.5716520000001,721.368945,720.572677,719.6372700000001,719.119214,718.942972,718.410814,717.771571,717.2059290000001,716.9289820000001,716.9247029999999,716.387419,716.193225,716.120042,715.987437,715.848969,715.436909,715.175483,715.093236,715.5768069999999,715.7273640000001,715.167926,715.0406999999999,715.040876,714.97591,714.620082,714.134839,713.698183,713.8027490000001,713.6003270000001,713.724616,714.0908609999999,714.405483,714.55076,715.054296,714.6034609999999,713.908162,713.8133200000001,713.537132,713.747529,713.771443,713.709348,713.915796,713.8406,714.220683,714.516605,712.78493,712.012752,711.471354,711.04704,710.694567],\"yaxis\":\"y\",\"type\":\"scatter\"},{\"hovertemplate\":\"variable=predict_lin<br>DATE=%{x}<br>value=%{y}<extra></extra>\",\"legendgroup\":\"predict_lin\",\"line\":{\"color\":\"#EF553B\",\"dash\":\"solid\"},\"marker\":{\"symbol\":\"circle\"},\"mode\":\"lines\",\"name\":\"predict_lin\",\"orientation\":\"v\",\"showlegend\":true,\"x\":[\"2021-06-12T00:00:00\",\"2021-06-13T00:00:00\",\"2021-06-14T00:00:00\",\"2021-06-15T00:00:00\",\"2021-06-16T00:00:00\",\"2021-06-17T00:00:00\",\"2021-06-18T00:00:00\",\"2021-06-19T00:00:00\",\"2021-06-20T00:00:00\",\"2021-06-21T00:00:00\",\"2021-06-22T00:00:00\",\"2021-06-23T00:00:00\",\"2021-06-24T00:00:00\",\"2021-06-25T00:00:00\",\"2021-06-26T00:00:00\",\"2021-06-27T00:00:00\",\"2021-06-28T00:00:00\",\"2021-06-29T00:00:00\",\"2021-06-30T00:00:00\",\"2021-07-01T00:00:00\",\"2021-07-02T00:00:00\",\"2021-07-03T00:00:00\",\"2021-07-04T00:00:00\",\"2021-07-05T00:00:00\",\"2021-07-06T00:00:00\",\"2021-07-07T00:00:00\",\"2021-07-08T00:00:00\",\"2021-07-09T00:00:00\",\"2021-07-10T00:00:00\",\"2021-07-11T00:00:00\",\"2021-07-12T00:00:00\",\"2021-07-13T00:00:00\",\"2021-07-14T00:00:00\",\"2021-07-15T00:00:00\",\"2021-07-16T00:00:00\",\"2021-07-17T00:00:00\",\"2021-07-18T00:00:00\",\"2021-07-19T00:00:00\",\"2021-07-20T00:00:00\",\"2021-07-21T00:00:00\",\"2021-07-22T00:00:00\",\"2021-07-23T00:00:00\",\"2021-07-24T00:00:00\",\"2021-07-25T00:00:00\",\"2021-07-26T00:00:00\",\"2021-07-27T00:00:00\",\"2021-07-28T00:00:00\",\"2021-07-29T00:00:00\",\"2021-07-30T00:00:00\",\"2021-07-31T00:00:00\",\"2021-08-01T00:00:00\",\"2021-08-02T00:00:00\",\"2021-08-03T00:00:00\",\"2021-08-04T00:00:00\",\"2021-08-05T00:00:00\",\"2021-08-06T00:00:00\",\"2021-08-07T00:00:00\",\"2021-08-08T00:00:00\",\"2021-08-09T00:00:00\",\"2021-08-10T00:00:00\",\"2021-08-11T00:00:00\",\"2021-08-12T00:00:00\",\"2021-08-13T00:00:00\",\"2021-08-14T00:00:00\",\"2021-08-15T00:00:00\",\"2021-08-16T00:00:00\",\"2021-08-17T00:00:00\",\"2021-08-18T00:00:00\",\"2021-08-19T00:00:00\",\"2021-08-20T00:00:00\",\"2021-08-21T00:00:00\",\"2021-08-22T00:00:00\",\"2021-08-23T00:00:00\",\"2021-08-24T00:00:00\",\"2021-08-25T00:00:00\",\"2021-08-26T00:00:00\",\"2021-08-27T00:00:00\",\"2021-08-28T00:00:00\",\"2021-08-29T00:00:00\",\"2021-08-30T00:00:00\",\"2021-08-31T00:00:00\",\"2021-09-01T00:00:00\",\"2021-09-02T00:00:00\",\"2021-09-03T00:00:00\",\"2021-09-04T00:00:00\",\"2021-09-05T00:00:00\",\"2021-09-06T00:00:00\",\"2021-09-07T00:00:00\",\"2021-09-08T00:00:00\",\"2021-09-09T00:00:00\",\"2021-09-10T00:00:00\",\"2021-09-11T00:00:00\",\"2021-09-12T00:00:00\",\"2021-09-13T00:00:00\",\"2021-09-14T00:00:00\",\"2021-09-15T00:00:00\",\"2021-09-16T00:00:00\",\"2021-09-17T00:00:00\",\"2021-09-18T00:00:00\",\"2021-09-19T00:00:00\",\"2021-09-20T00:00:00\",\"2021-09-21T00:00:00\",\"2021-09-22T00:00:00\",\"2021-09-23T00:00:00\",\"2021-09-24T00:00:00\",\"2021-09-25T00:00:00\",\"2021-09-26T00:00:00\",\"2021-09-27T00:00:00\",\"2021-09-28T00:00:00\",\"2021-09-29T00:00:00\",\"2021-09-30T00:00:00\",\"2021-10-01T00:00:00\"],\"xaxis\":\"x\",\"y\":[713.8501603809548,712.9020432314097,712.9649068556212,713.0141445945052,713.5278958173368,713.5441757415356,713.340976886798,713.6618283007602,713.3853288949247,714.2756188193875,714.6170503363537,715.2976802004139,715.6562104895409,715.78582076711,715.2190327130663,714.9004773390932,714.9790329106439,715.5099980816225,715.0584561209104,715.1858385170451,715.2947455353393,716.9433434727409,717.9714564196125,718.299133357802,718.3180915330006,718.2686456927632,718.3092393515401,718.6762937816036,716.8417671812413,715.7832153675047,716.4280586550406,717.865346651942,719.490527071741,719.5262534936969,720.3097827177761,717.9571613305,721.9608178617067,716.9338855309725,714.9745657740541,714.951402008779,714.8776263868164,714.5329799855799,714.3601773375232,716.2611557453209,717.3253961475185,716.9477480696786,716.4944467329148,717.713983280379,717.3677504619077,717.1577975624242,716.3457148812038,715.9439149778264,716.7184404090173,714.6494846613764,713.4990327765777,726.6766083383445,731.9129589252796,736.3454908558105,740.2549378750349,728.129609809202,724.4067134891602,723.077430455563,721.7447504127122,720.4008919288791,718.3253938613128,718.3459621352579,718.9918196531938,717.983588543834,715.5927860671655,716.9194314057793,716.5058656123365,716.3239859482603,715.5991421634302,715.6604811850368,715.6889074760718,715.6118058501507,716.0199729496788,715.7403391809289,715.5392043291997,714.5181759310268,715.0170051688511,715.2713097626491,714.8676146908018,714.5771838048768,713.6483203856395,717.7627485526468,716.9072946749011,715.8836986923527,712.7335805719301,711.4767615095676,711.1277767771016,711.257402227008,711.6897576508998,712.1505363960902,712.3043186729186,712.917098275393,712.453455780831,711.8137979738558,711.6398480096137,711.4468848898025,711.6375277657729,711.7206630311887,711.6223649220608,711.893875978354,711.9029182362037,712.2616213740467,712.5802084334015,711.096551013024,710.347474531894,709.8949233550725,709.6706764725468,709.3704716371136],\"yaxis\":\"y\",\"type\":\"scatter\"},{\"hovertemplate\":\"variable=EXP<br>DATE=%{x}<br>value=%{y}<extra></extra>\",\"legendgroup\":\"EXP\",\"line\":{\"color\":\"#00cc96\",\"dash\":\"solid\"},\"marker\":{\"symbol\":\"circle\"},\"mode\":\"lines\",\"name\":\"EXP\",\"orientation\":\"v\",\"showlegend\":true,\"x\":[\"2021-06-12T00:00:00\",\"2021-06-13T00:00:00\",\"2021-06-14T00:00:00\",\"2021-06-15T00:00:00\",\"2021-06-16T00:00:00\",\"2021-06-17T00:00:00\",\"2021-06-18T00:00:00\",\"2021-06-19T00:00:00\",\"2021-06-20T00:00:00\",\"2021-06-21T00:00:00\",\"2021-06-22T00:00:00\",\"2021-06-23T00:00:00\",\"2021-06-24T00:00:00\",\"2021-06-25T00:00:00\",\"2021-06-26T00:00:00\",\"2021-06-27T00:00:00\",\"2021-06-28T00:00:00\",\"2021-06-29T00:00:00\",\"2021-06-30T00:00:00\",\"2021-07-01T00:00:00\",\"2021-07-02T00:00:00\",\"2021-07-03T00:00:00\",\"2021-07-04T00:00:00\",\"2021-07-05T00:00:00\",\"2021-07-06T00:00:00\",\"2021-07-07T00:00:00\",\"2021-07-08T00:00:00\",\"2021-07-09T00:00:00\",\"2021-07-10T00:00:00\",\"2021-07-11T00:00:00\",\"2021-07-12T00:00:00\",\"2021-07-13T00:00:00\",\"2021-07-14T00:00:00\",\"2021-07-15T00:00:00\",\"2021-07-16T00:00:00\",\"2021-07-17T00:00:00\",\"2021-07-18T00:00:00\",\"2021-07-19T00:00:00\",\"2021-07-20T00:00:00\",\"2021-07-21T00:00:00\",\"2021-07-22T00:00:00\",\"2021-07-23T00:00:00\",\"2021-07-24T00:00:00\",\"2021-07-25T00:00:00\",\"2021-07-26T00:00:00\",\"2021-07-27T00:00:00\",\"2021-07-28T00:00:00\",\"2021-07-29T00:00:00\",\"2021-07-30T00:00:00\",\"2021-07-31T00:00:00\",\"2021-08-01T00:00:00\",\"2021-08-02T00:00:00\",\"2021-08-03T00:00:00\",\"2021-08-04T00:00:00\",\"2021-08-05T00:00:00\",\"2021-08-06T00:00:00\",\"2021-08-07T00:00:00\",\"2021-08-08T00:00:00\",\"2021-08-09T00:00:00\",\"2021-08-10T00:00:00\",\"2021-08-11T00:00:00\",\"2021-08-12T00:00:00\",\"2021-08-13T00:00:00\",\"2021-08-14T00:00:00\",\"2021-08-15T00:00:00\",\"2021-08-16T00:00:00\",\"2021-08-17T00:00:00\",\"2021-08-18T00:00:00\",\"2021-08-19T00:00:00\",\"2021-08-20T00:00:00\",\"2021-08-21T00:00:00\",\"2021-08-22T00:00:00\",\"2021-08-23T00:00:00\",\"2021-08-24T00:00:00\",\"2021-08-25T00:00:00\",\"2021-08-26T00:00:00\",\"2021-08-27T00:00:00\",\"2021-08-28T00:00:00\",\"2021-08-29T00:00:00\",\"2021-08-30T00:00:00\",\"2021-08-31T00:00:00\",\"2021-09-01T00:00:00\",\"2021-09-02T00:00:00\",\"2021-09-03T00:00:00\",\"2021-09-04T00:00:00\",\"2021-09-05T00:00:00\",\"2021-09-06T00:00:00\",\"2021-09-07T00:00:00\",\"2021-09-08T00:00:00\",\"2021-09-09T00:00:00\",\"2021-09-10T00:00:00\",\"2021-09-11T00:00:00\",\"2021-09-12T00:00:00\",\"2021-09-13T00:00:00\",\"2021-09-14T00:00:00\",\"2021-09-15T00:00:00\",\"2021-09-16T00:00:00\",\"2021-09-17T00:00:00\",\"2021-09-18T00:00:00\",\"2021-09-19T00:00:00\",\"2021-09-20T00:00:00\",\"2021-09-21T00:00:00\",\"2021-09-22T00:00:00\",\"2021-09-23T00:00:00\",\"2021-09-24T00:00:00\",\"2021-09-25T00:00:00\",\"2021-09-26T00:00:00\",\"2021-09-27T00:00:00\",\"2021-09-28T00:00:00\",\"2021-09-29T00:00:00\",\"2021-09-30T00:00:00\",\"2021-10-01T00:00:00\"],\"xaxis\":\"x\",\"y\":[732.9270857902211,732.8355771534483,732.7441508965156,732.6528069452615,732.5615452255911,732.470365663476,732.3792681849545,732.2882527161318,732.1973191831793,732.1064675123348,732.015697629903,731.9250094622544,731.8344029358259,731.743877977121,731.6534345127087,731.5630724692248,731.4727917733707,731.3825923519139,731.2924741316879,731.202437039592,731.1124810025913,731.0226059477167,730.9328118020646,730.8430984927975,730.7534659471429,730.6639140923942,730.57444285591,730.4850521651146,730.3957419474972,730.3065121306128,730.2173626420812,730.1282934095875,730.039304360882,729.95039542378,729.8615665261617,729.7728175959721,729.6841485612214,729.5955593499843,729.5070498904006,729.4186201106745,729.3302699390748,729.241999303935,729.1538081336532,729.0656963566919,728.9776639015778,728.8897106969023,728.8018366713206,728.7140417535529,728.6263258723826,728.538688956658,728.4511309352911,728.3636517372579,728.2762512915984,728.1889295274166,728.1016863738799,728.0145217602201,727.9274356157321,727.8404278697749,727.7534984517708,727.6666472912059,727.5798743176296,727.4931794606546,727.4065626499572,727.320023815277,727.2335628864167,727.1471797932423,727.0608744656829,726.9746468337308,726.8884968274411,726.802424376932,726.7164294123846,726.6305118640429,726.5446716622135,726.4589087372661,726.3732230196327,726.2876144398082,726.2020829283499,726.1166284158778,726.0312508330741,725.9459501106836,725.8607261795133,725.7755789704329,725.6905084143737,725.6055144423295,725.5205969853564,725.4357559745724,725.3509913411573,725.2663030163532,725.1816909314638,725.0971550178549,725.012695206954,724.9283114302503,724.8440036192947,724.7597717056996,724.6756156211392,724.591535297349,724.507530666126,724.4236016593287,724.3397482088769,724.2559702467518,724.1722677049954,724.0886405157114,724.0050886110643,723.9216119232798,723.8382103846445,723.7548839275063,723.6716324842735,723.5884559874156,723.5053543694628,723.4223275630059,723.3393755006967,723.2564981152473],\"yaxis\":\"y\",\"type\":\"scatter\"}],                        {\"template\":{\"data\":{\"bar\":[{\"error_x\":{\"color\":\"#2a3f5f\"},\"error_y\":{\"color\":\"#2a3f5f\"},\"marker\":{\"line\":{\"color\":\"#E5ECF6\",\"width\":0.5},\"pattern\":{\"fillmode\":\"overlay\",\"size\":10,\"solidity\":0.2}},\"type\":\"bar\"}],\"barpolar\":[{\"marker\":{\"line\":{\"color\":\"#E5ECF6\",\"width\":0.5},\"pattern\":{\"fillmode\":\"overlay\",\"size\":10,\"solidity\":0.2}},\"type\":\"barpolar\"}],\"carpet\":[{\"aaxis\":{\"endlinecolor\":\"#2a3f5f\",\"gridcolor\":\"white\",\"linecolor\":\"white\",\"minorgridcolor\":\"white\",\"startlinecolor\":\"#2a3f5f\"},\"baxis\":{\"endlinecolor\":\"#2a3f5f\",\"gridcolor\":\"white\",\"linecolor\":\"white\",\"minorgridcolor\":\"white\",\"startlinecolor\":\"#2a3f5f\"},\"type\":\"carpet\"}],\"choropleth\":[{\"colorbar\":{\"outlinewidth\":0,\"ticks\":\"\"},\"type\":\"choropleth\"}],\"contour\":[{\"colorbar\":{\"outlinewidth\":0,\"ticks\":\"\"},\"colorscale\":[[0.0,\"#0d0887\"],[0.1111111111111111,\"#46039f\"],[0.2222222222222222,\"#7201a8\"],[0.3333333333333333,\"#9c179e\"],[0.4444444444444444,\"#bd3786\"],[0.5555555555555556,\"#d8576b\"],[0.6666666666666666,\"#ed7953\"],[0.7777777777777778,\"#fb9f3a\"],[0.8888888888888888,\"#fdca26\"],[1.0,\"#f0f921\"]],\"type\":\"contour\"}],\"contourcarpet\":[{\"colorbar\":{\"outlinewidth\":0,\"ticks\":\"\"},\"type\":\"contourcarpet\"}],\"heatmap\":[{\"colorbar\":{\"outlinewidth\":0,\"ticks\":\"\"},\"colorscale\":[[0.0,\"#0d0887\"],[0.1111111111111111,\"#46039f\"],[0.2222222222222222,\"#7201a8\"],[0.3333333333333333,\"#9c179e\"],[0.4444444444444444,\"#bd3786\"],[0.5555555555555556,\"#d8576b\"],[0.6666666666666666,\"#ed7953\"],[0.7777777777777778,\"#fb9f3a\"],[0.8888888888888888,\"#fdca26\"],[1.0,\"#f0f921\"]],\"type\":\"heatmap\"}],\"heatmapgl\":[{\"colorbar\":{\"outlinewidth\":0,\"ticks\":\"\"},\"colorscale\":[[0.0,\"#0d0887\"],[0.1111111111111111,\"#46039f\"],[0.2222222222222222,\"#7201a8\"],[0.3333333333333333,\"#9c179e\"],[0.4444444444444444,\"#bd3786\"],[0.5555555555555556,\"#d8576b\"],[0.6666666666666666,\"#ed7953\"],[0.7777777777777778,\"#fb9f3a\"],[0.8888888888888888,\"#fdca26\"],[1.0,\"#f0f921\"]],\"type\":\"heatmapgl\"}],\"histogram\":[{\"marker\":{\"pattern\":{\"fillmode\":\"overlay\",\"size\":10,\"solidity\":0.2}},\"type\":\"histogram\"}],\"histogram2d\":[{\"colorbar\":{\"outlinewidth\":0,\"ticks\":\"\"},\"colorscale\":[[0.0,\"#0d0887\"],[0.1111111111111111,\"#46039f\"],[0.2222222222222222,\"#7201a8\"],[0.3333333333333333,\"#9c179e\"],[0.4444444444444444,\"#bd3786\"],[0.5555555555555556,\"#d8576b\"],[0.6666666666666666,\"#ed7953\"],[0.7777777777777778,\"#fb9f3a\"],[0.8888888888888888,\"#fdca26\"],[1.0,\"#f0f921\"]],\"type\":\"histogram2d\"}],\"histogram2dcontour\":[{\"colorbar\":{\"outlinewidth\":0,\"ticks\":\"\"},\"colorscale\":[[0.0,\"#0d0887\"],[0.1111111111111111,\"#46039f\"],[0.2222222222222222,\"#7201a8\"],[0.3333333333333333,\"#9c179e\"],[0.4444444444444444,\"#bd3786\"],[0.5555555555555556,\"#d8576b\"],[0.6666666666666666,\"#ed7953\"],[0.7777777777777778,\"#fb9f3a\"],[0.8888888888888888,\"#fdca26\"],[1.0,\"#f0f921\"]],\"type\":\"histogram2dcontour\"}],\"mesh3d\":[{\"colorbar\":{\"outlinewidth\":0,\"ticks\":\"\"},\"type\":\"mesh3d\"}],\"parcoords\":[{\"line\":{\"colorbar\":{\"outlinewidth\":0,\"ticks\":\"\"}},\"type\":\"parcoords\"}],\"pie\":[{\"automargin\":true,\"type\":\"pie\"}],\"scatter\":[{\"marker\":{\"colorbar\":{\"outlinewidth\":0,\"ticks\":\"\"}},\"type\":\"scatter\"}],\"scatter3d\":[{\"line\":{\"colorbar\":{\"outlinewidth\":0,\"ticks\":\"\"}},\"marker\":{\"colorbar\":{\"outlinewidth\":0,\"ticks\":\"\"}},\"type\":\"scatter3d\"}],\"scattercarpet\":[{\"marker\":{\"colorbar\":{\"outlinewidth\":0,\"ticks\":\"\"}},\"type\":\"scattercarpet\"}],\"scattergeo\":[{\"marker\":{\"colorbar\":{\"outlinewidth\":0,\"ticks\":\"\"}},\"type\":\"scattergeo\"}],\"scattergl\":[{\"marker\":{\"colorbar\":{\"outlinewidth\":0,\"ticks\":\"\"}},\"type\":\"scattergl\"}],\"scattermapbox\":[{\"marker\":{\"colorbar\":{\"outlinewidth\":0,\"ticks\":\"\"}},\"type\":\"scattermapbox\"}],\"scatterpolar\":[{\"marker\":{\"colorbar\":{\"outlinewidth\":0,\"ticks\":\"\"}},\"type\":\"scatterpolar\"}],\"scatterpolargl\":[{\"marker\":{\"colorbar\":{\"outlinewidth\":0,\"ticks\":\"\"}},\"type\":\"scatterpolargl\"}],\"scatterternary\":[{\"marker\":{\"colorbar\":{\"outlinewidth\":0,\"ticks\":\"\"}},\"type\":\"scatterternary\"}],\"surface\":[{\"colorbar\":{\"outlinewidth\":0,\"ticks\":\"\"},\"colorscale\":[[0.0,\"#0d0887\"],[0.1111111111111111,\"#46039f\"],[0.2222222222222222,\"#7201a8\"],[0.3333333333333333,\"#9c179e\"],[0.4444444444444444,\"#bd3786\"],[0.5555555555555556,\"#d8576b\"],[0.6666666666666666,\"#ed7953\"],[0.7777777777777778,\"#fb9f3a\"],[0.8888888888888888,\"#fdca26\"],[1.0,\"#f0f921\"]],\"type\":\"surface\"}],\"table\":[{\"cells\":{\"fill\":{\"color\":\"#EBF0F8\"},\"line\":{\"color\":\"white\"}},\"header\":{\"fill\":{\"color\":\"#C8D4E3\"},\"line\":{\"color\":\"white\"}},\"type\":\"table\"}]},\"layout\":{\"annotationdefaults\":{\"arrowcolor\":\"#2a3f5f\",\"arrowhead\":0,\"arrowwidth\":1},\"autotypenumbers\":\"strict\",\"coloraxis\":{\"colorbar\":{\"outlinewidth\":0,\"ticks\":\"\"}},\"colorscale\":{\"diverging\":[[0,\"#8e0152\"],[0.1,\"#c51b7d\"],[0.2,\"#de77ae\"],[0.3,\"#f1b6da\"],[0.4,\"#fde0ef\"],[0.5,\"#f7f7f7\"],[0.6,\"#e6f5d0\"],[0.7,\"#b8e186\"],[0.8,\"#7fbc41\"],[0.9,\"#4d9221\"],[1,\"#276419\"]],\"sequential\":[[0.0,\"#0d0887\"],[0.1111111111111111,\"#46039f\"],[0.2222222222222222,\"#7201a8\"],[0.3333333333333333,\"#9c179e\"],[0.4444444444444444,\"#bd3786\"],[0.5555555555555556,\"#d8576b\"],[0.6666666666666666,\"#ed7953\"],[0.7777777777777778,\"#fb9f3a\"],[0.8888888888888888,\"#fdca26\"],[1.0,\"#f0f921\"]],\"sequentialminus\":[[0.0,\"#0d0887\"],[0.1111111111111111,\"#46039f\"],[0.2222222222222222,\"#7201a8\"],[0.3333333333333333,\"#9c179e\"],[0.4444444444444444,\"#bd3786\"],[0.5555555555555556,\"#d8576b\"],[0.6666666666666666,\"#ed7953\"],[0.7777777777777778,\"#fb9f3a\"],[0.8888888888888888,\"#fdca26\"],[1.0,\"#f0f921\"]]},\"colorway\":[\"#636efa\",\"#EF553B\",\"#00cc96\",\"#ab63fa\",\"#FFA15A\",\"#19d3f3\",\"#FF6692\",\"#B6E880\",\"#FF97FF\",\"#FECB52\"],\"font\":{\"color\":\"#2a3f5f\"},\"geo\":{\"bgcolor\":\"white\",\"lakecolor\":\"white\",\"landcolor\":\"#E5ECF6\",\"showlakes\":true,\"showland\":true,\"subunitcolor\":\"white\"},\"hoverlabel\":{\"align\":\"left\"},\"hovermode\":\"closest\",\"mapbox\":{\"style\":\"light\"},\"paper_bgcolor\":\"white\",\"plot_bgcolor\":\"#E5ECF6\",\"polar\":{\"angularaxis\":{\"gridcolor\":\"white\",\"linecolor\":\"white\",\"ticks\":\"\"},\"bgcolor\":\"#E5ECF6\",\"radialaxis\":{\"gridcolor\":\"white\",\"linecolor\":\"white\",\"ticks\":\"\"}},\"scene\":{\"xaxis\":{\"backgroundcolor\":\"#E5ECF6\",\"gridcolor\":\"white\",\"gridwidth\":2,\"linecolor\":\"white\",\"showbackground\":true,\"ticks\":\"\",\"zerolinecolor\":\"white\"},\"yaxis\":{\"backgroundcolor\":\"#E5ECF6\",\"gridcolor\":\"white\",\"gridwidth\":2,\"linecolor\":\"white\",\"showbackground\":true,\"ticks\":\"\",\"zerolinecolor\":\"white\"},\"zaxis\":{\"backgroundcolor\":\"#E5ECF6\",\"gridcolor\":\"white\",\"gridwidth\":2,\"linecolor\":\"white\",\"showbackground\":true,\"ticks\":\"\",\"zerolinecolor\":\"white\"}},\"shapedefaults\":{\"line\":{\"color\":\"#2a3f5f\"}},\"ternary\":{\"aaxis\":{\"gridcolor\":\"white\",\"linecolor\":\"white\",\"ticks\":\"\"},\"baxis\":{\"gridcolor\":\"white\",\"linecolor\":\"white\",\"ticks\":\"\"},\"bgcolor\":\"#E5ECF6\",\"caxis\":{\"gridcolor\":\"white\",\"linecolor\":\"white\",\"ticks\":\"\"}},\"title\":{\"x\":0.05},\"xaxis\":{\"automargin\":true,\"gridcolor\":\"white\",\"linecolor\":\"white\",\"ticks\":\"\",\"title\":{\"standoff\":15},\"zerolinecolor\":\"white\",\"zerolinewidth\":2},\"yaxis\":{\"automargin\":true,\"gridcolor\":\"white\",\"linecolor\":\"white\",\"ticks\":\"\",\"title\":{\"standoff\":15},\"zerolinecolor\":\"white\",\"zerolinewidth\":2}}},\"xaxis\":{\"anchor\":\"y\",\"domain\":[0.0,1.0],\"title\":{\"text\":\"DATE\"}},\"yaxis\":{\"anchor\":\"x\",\"domain\":[0.0,1.0],\"title\":{\"text\":\"value\"}},\"legend\":{\"title\":{\"text\":\"variable\"},\"tracegroupgap\":0},\"margin\":{\"t\":60}},                        {\"responsive\": true}                    ).then(function(){\n",
       "                            \n",
       "var gd = document.getElementById('44fc5df3-20cc-4bd0-8be2-e99fb630ea95');\n",
       "var x = new MutationObserver(function (mutations, observer) {{\n",
       "        var display = window.getComputedStyle(gd).display;\n",
       "        if (!display || display === 'none') {{\n",
       "            console.log([gd, 'removed!']);\n",
       "            Plotly.purge(gd);\n",
       "            observer.disconnect();\n",
       "        }}\n",
       "}});\n",
       "\n",
       "// Listen for the removal of the full notebook cells\n",
       "var notebookContainer = gd.closest('#notebook-container');\n",
       "if (notebookContainer) {{\n",
       "    x.observe(notebookContainer, {childList: true});\n",
       "}}\n",
       "\n",
       "// Listen for the clearing of the current output cell\n",
       "var outputEl = gd.closest('.output');\n",
       "if (outputEl) {{\n",
       "    x.observe(outputEl, {childList: true});\n",
       "}}\n",
       "\n",
       "                        })                };                });            </script>        </div>"
      ]
     },
     "metadata": {},
     "output_type": "display_data"
    }
   ],
   "source": [
    "plot = pd.DataFrame(index = y_test.index)\n",
    "plot['actual'] = y_test\n",
    "# plot['predict_stack'] = pipeline.predict(X)\n",
    "plot['predict_lin'] = pipeline_lin.predict(X_test)\n",
    "# plot['predict_CBR'] = pipeline_CBR.predict(X)\n",
    "plot['EXP'] = X['EXP_PRED']\n",
    "px.line(plot)"
   ]
  },
  {
   "attachments": {
    "a7fc5e70-f72a-4301-bf49-02dce111dccb.png": {
     "image/png": "[encoded data removed]"
    }
   },
   "cell_type": "markdown",
   "id": "c7dfd182-9869-43fd-b90e-9a6a4f3459df",
   "metadata": {},
   "source": [
    "![изображение.png](attachment:a7fc5e70-f72a-4301-bf49-02dce111dccb.png)"
   ]
  },
  {
   "cell_type": "code",
   "execution_count": null,
   "id": "94ad5f4c-c863-4513-b62e-7bb877a60cac",
   "metadata": {},
   "outputs": [],
   "source": []
  },
  {
   "cell_type": "code",
   "execution_count": null,
   "id": "be36962c-ee4b-459e-9efa-0c00d25c1f8b",
   "metadata": {},
   "outputs": [],
   "source": []
  }
 ],
 "metadata": {
  "kernelspec": {
   "display_name": "Python 3",
   "language": "python",
   "name": "python3"
  },
  "language_info": {
   "codemirror_mode": {
    "name": "ipython",
    "version": 3
   },
   "file_extension": ".py",
   "mimetype": "text/x-python",
   "name": "python",
   "nbconvert_exporter": "python",
   "pygments_lexer": "ipython3",
   "version": "3.8.8"
  }
 },
 "nbformat": 4,
 "nbformat_minor": 5
}
